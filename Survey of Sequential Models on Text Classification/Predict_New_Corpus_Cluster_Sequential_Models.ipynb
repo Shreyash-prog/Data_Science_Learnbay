{
 "cells": [
  {
   "cell_type": "markdown",
   "metadata": {},
   "source": [
    "#### Objective : We will create a classification model to classify AG News Corpus. The corpus belongs to 4 different classes.\n",
    "#### Learning Objective : To be able to apply every Sequential Model types to the prject and see performance\n",
    "    1. RNN using pretrained embddings - We will use Glove 100 D vector for this project\n",
    "    2. RNN using embedding trained as a part of model training\n",
    "    3. LSTM using pretrained embedding - We will use Glove 100D vector for this project\n",
    "    4. LSTM using embedding as a part of model training\n",
    "    5. GRU using embedding or pretrained embedding, whatever performed better\n",
    " \n",
    "#### We will be using Pytorch for our projects "
   ]
  },
  {
   "cell_type": "markdown",
   "metadata": {},
   "source": [
    "#### Data Description - https://www.kaggle.com/amananandrai/ag-news-classification-dataset\n",
    "\n",
    "The AG's news topic classification dataset is constructed by choosing 4 largest classes from the original corpus. Each class contains 30,000 training samples and 1,900 testing samples. The total number of training samples is 120,000 and testing 7,600.\n",
    "\n",
    "The file classes.txt contains a list of classes corresponding to each label.\n",
    "\n",
    "The files train.csv and test.csv contain all the training samples as comma-sparated values. There are 3 columns in them, corresponding to class index (1 to 4), title and description. The title and description are escaped using double quotes (\"), and any internal double quote is escaped by 2 double quotes (\"\"). New lines are escaped by a backslash followed with an \"n\" character, that is \"\\n\"."
   ]
  },
  {
   "cell_type": "markdown",
   "metadata": {},
   "source": [
    "##### Lets Import the required packages for our project"
   ]
  },
  {
   "cell_type": "code",
   "execution_count": 1,
   "metadata": {},
   "outputs": [],
   "source": [
    "import pandas as pd #### for any manipulations on the dataframe\n",
    "import os #### For doing os operations like change directory and all\n",
    "\n",
    "import spacy ### We will use spacy tokeniser for cleaning our data\n",
    "import numpy as np ### For any numeric  operations of matrices\n",
    "\n",
    "\n",
    "#### We will import the torch and will start working on the project\n",
    "import torch\n",
    "from torchtext import data ### This provides the pipeline for processing our data\n",
    "SEED = 1234\n",
    "torch.manual_seed(SEED)\n",
    "torch.cuda.manual_seed(SEED)\n",
    "torch.backends.cudnn.deterministic = True ### This will make our experiments reproducible\n",
    "import torch.nn as nn\n",
    "import torch.optim as optim ### We will call our optimiser function like adam, sgd etcc....\n",
    "import torch.nn.functional as F\n",
    "\n",
    "\n",
    "import random\n",
    "from sklearn.metrics import classification_report\n",
    "from matplotlib import pyplot as plt\n",
    "import pyprind\n",
    "%matplotlib inline  \n",
    "\n",
    "import re ### This will help us in writing regex for cleaning our data\n"
   ]
  },
  {
   "cell_type": "markdown",
   "metadata": {},
   "source": [
    "#### Define paths and working directory"
   ]
  },
  {
   "cell_type": "code",
   "execution_count": 2,
   "metadata": {},
   "outputs": [],
   "source": [
    "#### Change the directory\n",
    "os.chdir(\"C:\\\\Users\\\\ashwinku\\\\Desktop\\\\Pytorch\")\n",
    "\n",
    "### Read the data source placed at the path\n",
    "path = '\\\\data\\\\ag_news_csv\\\\'\n",
    "\n",
    "### As we have have GPU avilable we will use it\n",
    "device = torch.device('cuda' if torch.cuda.is_available() else 'cpu')"
   ]
  },
  {
   "cell_type": "markdown",
   "metadata": {},
   "source": [
    "#### Define the text preprocessing steps"
   ]
  },
  {
   "cell_type": "code",
   "execution_count": 3,
   "metadata": {},
   "outputs": [],
   "source": [
    "### We will use NLP tokeniser and disable parser and other functionalties for speed\n",
    "nlp = spacy.load('en_core_web_sm',disable=['parser', 'tagger', 'ner'])\n",
    "\n",
    "###  Define the tokenizer function to be used later on\n",
    "def tokenizer(s): \n",
    "    return [w.text.lower() for w in nlp(corp_clean(s))]\n",
    "\n",
    "### Every token should be cleanedbefore going through the process\n",
    "def corp_clean(text):\n",
    "#     text = re.sub(r'[^A-Za-z0-9]+', ' ', text) # remove non alphanumeric character\n",
    "    text = re.sub(r'https?:/\\/\\S+', ' ', text) # remove links\n",
    "    text = text.replace(\"\\\\\",\" \")\n",
    "    return text.strip()"
   ]
  },
  {
   "cell_type": "markdown",
   "metadata": {},
   "source": [
    "### Define the further preprocessing step for each field and created iterator for batch"
   ]
  },
  {
   "cell_type": "code",
   "execution_count": 4,
   "metadata": {},
   "outputs": [],
   "source": [
    "# By using Data field function from torchtext we candefine how ew ant to process out data\n",
    "\n",
    "### Definition for processing text field\n",
    "txt_field = data.Field(sequential=True, ##Whether the datatype represents sequential data\n",
    "                       tokenize=tokenizer,  use_vocab=True )\n",
    "\n",
    "### Definition for processing label field\n",
    "label_field = data.Field(sequential=False, \n",
    "                         use_vocab=False, ### Don't use vaocab as it represents label data\n",
    "                         pad_token=None, \n",
    "                         unk_token=None)\n",
    "\n",
    "\n",
    "### Define which field in csv is label field and which one is text field\n",
    "train_val_fields = [('label', label_field), # we dont need this, so no processing\n",
    "    ('text_desc2', txt_field), # process it as label\n",
    "    ('text_desc', None), # we dont need this, so no processing\n",
    "                   ]\n",
    "\n",
    "### We will read the tabular data and craete split from it\n",
    "train, test = data.TabularDataset.splits(path='C:\\\\Users\\\\ashwinku\\\\Desktop\\\\Pytorch\\\\data\\\\ag_news_csv\\\\', \n",
    "                                            format='csv', \n",
    "                                            train='train.csv', \n",
    "                                            validation='test_2_all.csv', \n",
    "                                            fields=train_val_fields, \n",
    "                                            skip_header=True)"
   ]
  },
  {
   "cell_type": "markdown",
   "metadata": {},
   "source": [
    "#### RNN using pretrained Glove embeddings - reuse a learned embedding"
   ]
  },
  {
   "cell_type": "code",
   "execution_count": 5,
   "metadata": {},
   "outputs": [],
   "source": [
    "#### Now we will load the Glove Embedding and use its weigh in our model"
   ]
  },
  {
   "cell_type": "code",
   "execution_count": 6,
   "metadata": {},
   "outputs": [
    {
     "name": "stdout",
     "output_type": "stream",
     "text": [
      "torch.Size([37869, 100])\n",
      "torch.Size([37869, 100])\n"
     ]
    }
   ],
   "source": [
    "#### Load the vector from Glove txt file, only a few embedding supported at present\n",
    "from torchtext import vocab\n",
    "vec = vocab.Vectors('glove.6B.100d.txt',\"C:\\\\Users\\\\ashwinku\\\\Desktop\\\\Pytorch\\\\glove.6B\\\\\")\n",
    "\n",
    "### Build the vocabulary using the embeddings\n",
    "txt_field.build_vocab(train, test, max_size=100000, vectors=vec)\n",
    "# build vocab for labels\n",
    "label_field.build_vocab(train)\n",
    "\n",
    "print(txt_field.vocab.vectors.shape)\n",
    "\n",
    "### Store the pretrained embedding as vectors\n",
    "pretrained_embeddings = txt_field.vocab.vectors\n",
    "\n",
    "### Store the pretrained embedding as model embedding weigh data and make it untrainable\n",
    "print(pretrained_embeddings.shape)\n",
    "#### Print look at the frequency of dat\n",
    "label_field.vocab.freqs\n",
    "\n",
    "\n",
    "### Create an iterator over Batch of data\n",
    "traindl, testdl = data.BucketIterator.splits(datasets=(train, test), # specify train and validation Tabulardataset\n",
    "                                            batch_size = 32,  # batch size of train and validation\n",
    "                                            sort_key=lambda x: len(x.text_desc2), # on what attribute the text should be sorted\n",
    "                                            device=device, # -1 mean cpu and 0 or None mean gpu\n",
    "                                            sort_within_batch=True, \n",
    "                                            repeat=False)"
   ]
  },
  {
   "cell_type": "markdown",
   "metadata": {},
   "source": [
    "### Define the training loop - soul moto so we don;t define again and again. Ideally it should be defined after function call"
   ]
  },
  {
   "cell_type": "code",
   "execution_count": 7,
   "metadata": {},
   "outputs": [],
   "source": [
    "### in training loop model is set to train, and we do backward propogation in time using backprop\n",
    "\n",
    "def train(model, iterator, optimizer, criterion): \n",
    "    epoch_loss2 = 0 ### accumulate loss for every batch\n",
    "    epoch_acc = 0 ### accumulate accuracy for every batch\n",
    "    model.train() ### Put the model in training mode \n",
    "    bar = pyprind.ProgBar(len(iterator), bar_char='█') ### Just print the \n",
    "    for batch in iterator: \n",
    "        optimizer.zero_grad() ### for every epoch set gradient to zero otherwise it may start from previous gradients      \n",
    "        predictions = model(batch.text_desc2).squeeze(0) ### convert from 3d tensor to 2 d tensor\n",
    "        loss = criterion(predictions, batch.label) #### Calculate the loss\n",
    "        acc = accuracy_bin(predictions, batch.label) ### Caluclate the accuracy\n",
    "        epoch_loss2 += loss\n",
    "        epoch_acc += acc\n",
    "        loss.backward() ### Do the backward propogation on the loss function\n",
    "        optimizer.step() ### Update gradients based on loass calculations\n",
    "        bar.update() ### Update the bar \n",
    "\n",
    "    return epoch_loss2 /len(iterator),epoch_acc/len(iterator) ### return batch loss and accuracy\n",
    "\n",
    "### Define the eval loop, in which model isset to eval mode and gradients are updated\n",
    "def eval(model, iterator,  criterion): \n",
    "    epoch_loss2 = 0\n",
    "    epoch_acc = 0\n",
    "\n",
    "    model.eval() ### Puth teh model in eval mode\n",
    "    bar = pyprind.ProgBar(len(iterator), bar_char='█')\n",
    "    for batch in iterator:\n",
    "        predictions = model(batch.text_desc2).squeeze(0)\n",
    "        loss = criterion(predictions, batch.label)\n",
    "        acc = accuracy_bin(predictions, batch.label)\n",
    "        epoch_loss2 += loss\n",
    "        epoch_acc += acc\n",
    "        bar.update()   \n",
    "    return epoch_loss2 /len(iterator),epoch_acc/len(iterator)\n",
    "\n",
    "\n",
    "### define plotting helper function\n",
    "def plotting(train_loss, valid_loss):\n",
    "    plt.plot(train_loss)\n",
    "    plt.plot(valid_loss)\n",
    "    plt.legend(['train loss','validation loss'])\n",
    "    plt.xlabel('Number of epochs')\n",
    "    plt.ylabel('Negative Log Loss')"
   ]
  },
  {
   "cell_type": "markdown",
   "metadata": {},
   "source": [
    "#### Define the Rnn model module class  - for learning we are using simple rnn with single layer"
   ]
  },
  {
   "cell_type": "code",
   "execution_count": 8,
   "metadata": {},
   "outputs": [],
   "source": [
    "#### Define the rnn module\n",
    "class RNN(nn.Module):\n",
    "    def __init__(self, input_dim, embedding_dim, hidden_dim, output_dim):\n",
    "        super().__init__()\n",
    "        \n",
    "        self.embedding = nn.Embedding(input_dim, embedding_dim) ### Input dim and embedding dim\n",
    "        self.rnn = nn.RNN(embedding_dim, hidden_dim) ### Rnn cells takes embedding dimesnion as input\n",
    "        self.fc = nn.Linear(hidden_dim, output_dim) ### Fully connected layer\n",
    "        \n",
    "    def forward(self, x):\n",
    "        embedded = self.embedding(x)\n",
    "        output, hidden = self.rnn(embedded)\n",
    "        assert torch.equal(output[-1,:,:], hidden.squeeze(0))\n",
    "        out = self.fc(hidden[-1])\n",
    "#         outputs=self.act(out)\n",
    "        return out\n",
    "\n",
    "### define a function which takes logits and actuals lables and predicts accuracy\n",
    "def accuracy_bin(preds,labels):\n",
    "    top_n,top_i = preds.topk(1)\n",
    "    correct = 0\n",
    "    for i in range(len(labels)):\n",
    "       if labels[i] ==  top_i[i]:\n",
    "            correct +=1\n",
    "    return ((correct/len(labels))*100)"
   ]
  },
  {
   "cell_type": "markdown",
   "metadata": {},
   "source": [
    "### Define various other parmeters of the model"
   ]
  },
  {
   "cell_type": "code",
   "execution_count": 32,
   "metadata": {},
   "outputs": [],
   "source": [
    "INPUT_DIM = len(txt_field.vocab) ### Input dimenssion usually equal to length of vocab\n",
    "EMBEDDING_DIM = 100 ### Embedding dimension we are using 100D glove vectors\n",
    "HIDDEN_DIM = 400 #### Number of hidden laye\n",
    "OUTPUT_DIM = 4\n",
    "\n",
    "### Call the rnn module defines\n",
    "model = RNN(INPUT_DIM, EMBEDDING_DIM, HIDDEN_DIM, OUTPUT_DIM)\n",
    "### Set the embedding weights to rpedefines weights of Glove\n",
    "model.embedding.weight.data = pretrained_embeddings.cuda()\n",
    "# model.embedding.weight.data = pretrained_embeddings.cpu()\n",
    "### Use a Stochastic gradient descent with learning rate 0.01 , we could have used momentum also\n",
    "optimizer = optim.SGD(model.parameters(),  lr=0.01)\n",
    "### As we are claculating loss on logis we can use cross entrpy which does logsoftmax and negative logloss as backend\n",
    "criterion = nn.CrossEntropyLoss()\n",
    "### Load the model and criterion to the device\n",
    "model = model.to(device)\n",
    "criterion = criterion.to(device)"
   ]
  },
  {
   "cell_type": "markdown",
   "metadata": {},
   "source": [
    "### Define the train loop in which we will train model and eval loop to evaluate model"
   ]
  },
  {
   "cell_type": "code",
   "execution_count": 34,
   "metadata": {},
   "outputs": [],
   "source": [
    "#### Traine the model for 10 epochs atleast"
   ]
  },
  {
   "cell_type": "code",
   "execution_count": 35,
   "metadata": {},
   "outputs": [
    {
     "name": "stderr",
     "output_type": "stream",
     "text": [
      "0% [██████████████████████████████] 100% | ETA: 00:00:00\n",
      "Total time elapsed: 00:00:33\n",
      "0% [██████████████████████████████] 100% | ETA: 00:00:00\n",
      "Total time elapsed: 00:00:02\n"
     ]
    },
    {
     "name": "stdout",
     "output_type": "stream",
     "text": [
      "| Epoch: 01 | Train Loss: 0.555  | Accuracy Train: 80.062 |\n",
      "| Epoch: 01 | Validation Loss: 0.483  | Accuracy Validation: 82.747 |\n"
     ]
    },
    {
     "name": "stderr",
     "output_type": "stream",
     "text": [
      "0% [██████████████████████████████] 100% | ETA: 00:00:00\n",
      "Total time elapsed: 00:00:30\n",
      "0% [██████████████████████████████] 100% | ETA: 00:00:00\n",
      "Total time elapsed: 00:00:02\n"
     ]
    },
    {
     "name": "stdout",
     "output_type": "stream",
     "text": [
      "| Epoch: 02 | Train Loss: 0.471  | Accuracy Train: 83.236 |\n",
      "| Epoch: 02 | Validation Loss: 0.465  | Accuracy Validation: 83.364 |\n"
     ]
    },
    {
     "name": "stderr",
     "output_type": "stream",
     "text": [
      "0% [██████████████████████████████] 100% | ETA: 00:00:00\n",
      "Total time elapsed: 00:00:30\n",
      "0% [██████████████████████████████] 100% | ETA: 00:00:00\n",
      "Total time elapsed: 00:00:01\n"
     ]
    },
    {
     "name": "stdout",
     "output_type": "stream",
     "text": [
      "| Epoch: 03 | Train Loss: 0.458  | Accuracy Train: 83.718 |\n",
      "| Epoch: 03 | Validation Loss: 0.456  | Accuracy Validation: 83.824 |\n"
     ]
    },
    {
     "name": "stderr",
     "output_type": "stream",
     "text": [
      "0% [██████████████████████████████] 100% | ETA: 00:00:00\n",
      "Total time elapsed: 00:00:31\n",
      "0% [██████████████████████████████] 100% | ETA: 00:00:00\n",
      "Total time elapsed: 00:00:02\n"
     ]
    },
    {
     "name": "stdout",
     "output_type": "stream",
     "text": [
      "| Epoch: 04 | Train Loss: 0.447  | Accuracy Train: 83.985 |\n",
      "| Epoch: 04 | Validation Loss: 0.450  | Accuracy Validation: 83.955 |\n"
     ]
    },
    {
     "name": "stderr",
     "output_type": "stream",
     "text": [
      "0% [██████████████████████████████] 100% | ETA: 00:00:00\n",
      "Total time elapsed: 00:00:30\n",
      "0% [██████████████████████████████] 100% | ETA: 00:00:00\n",
      "Total time elapsed: 00:00:02\n"
     ]
    },
    {
     "name": "stdout",
     "output_type": "stream",
     "text": [
      "| Epoch: 05 | Train Loss: 0.438  | Accuracy Train: 84.312 |\n",
      "| Epoch: 05 | Validation Loss: 0.438  | Accuracy Validation: 84.191 |\n"
     ]
    },
    {
     "name": "stderr",
     "output_type": "stream",
     "text": [
      "0% [██████████████████████████████] 100% | ETA: 00:00:00\n",
      "Total time elapsed: 00:00:30\n",
      "0% [██████████████████████████████] 100% | ETA: 00:00:00\n",
      "Total time elapsed: 00:00:02\n"
     ]
    },
    {
     "name": "stdout",
     "output_type": "stream",
     "text": [
      "| Epoch: 06 | Train Loss: 0.430  | Accuracy Train: 84.570 |\n",
      "| Epoch: 06 | Validation Loss: 0.427  | Accuracy Validation: 84.769 |\n"
     ]
    },
    {
     "name": "stderr",
     "output_type": "stream",
     "text": [
      "0% [██████████████████████████████] 100% | ETA: 00:00:00\n",
      "Total time elapsed: 00:00:30\n",
      "0% [██████████████████████████████] 100% | ETA: 00:00:00\n",
      "Total time elapsed: 00:00:02\n"
     ]
    },
    {
     "name": "stdout",
     "output_type": "stream",
     "text": [
      "| Epoch: 07 | Train Loss: 0.424  | Accuracy Train: 84.725 |\n",
      "| Epoch: 07 | Validation Loss: 0.422  | Accuracy Validation: 84.664 |\n"
     ]
    },
    {
     "name": "stderr",
     "output_type": "stream",
     "text": [
      "0% [██████████████████████████████] 100% | ETA: 00:00:00\n",
      "Total time elapsed: 00:00:30\n",
      "0% [██████████████████████████████] 100% | ETA: 00:00:00\n",
      "Total time elapsed: 00:00:02\n"
     ]
    },
    {
     "name": "stdout",
     "output_type": "stream",
     "text": [
      "| Epoch: 08 | Train Loss: 0.417  | Accuracy Train: 84.981 |\n",
      "| Epoch: 08 | Validation Loss: 0.423  | Accuracy Validation: 84.756 |\n"
     ]
    },
    {
     "name": "stderr",
     "output_type": "stream",
     "text": [
      "0% [██████████████████████████████] 100% | ETA: 00:00:00\n",
      "Total time elapsed: 00:00:30\n",
      "0% [██████████████████████████████] 100% | ETA: 00:00:00\n",
      "Total time elapsed: 00:00:02\n"
     ]
    },
    {
     "name": "stdout",
     "output_type": "stream",
     "text": [
      "| Epoch: 09 | Train Loss: 0.411  | Accuracy Train: 85.164 |\n",
      "| Epoch: 09 | Validation Loss: 0.413  | Accuracy Validation: 85.097 |\n"
     ]
    },
    {
     "name": "stderr",
     "output_type": "stream",
     "text": [
      "0% [██████████████████████████████] 100% | ETA: 00:00:00\n",
      "Total time elapsed: 00:00:29\n",
      "0% [██████████████████████████████] 100% | ETA: 00:00:00\n",
      "Total time elapsed: 00:00:02\n"
     ]
    },
    {
     "name": "stdout",
     "output_type": "stream",
     "text": [
      "| Epoch: 10 | Train Loss: 0.405  | Accuracy Train: 85.335 |\n",
      "| Epoch: 10 | Validation Loss: 0.408  | Accuracy Validation: 85.386 |\n"
     ]
    }
   ],
   "source": [
    "N_EPOCHS = 10\n",
    "train_loss_list = []\n",
    "valid_loss_list = []\n",
    "\n",
    "\n",
    "\n",
    "for epoch in range(N_EPOCHS):\n",
    "\n",
    "    train_loss,train_acc= train(model, traindl, optimizer, criterion)\n",
    "    valid_loss, valid_acc = eval(model,  testdl, criterion)\n",
    "    train_loss_list.append(train_loss)\n",
    "    valid_loss_list.append(valid_loss)\n",
    "    print (f'| Epoch: {epoch+1:02} | Train Loss: {train_loss:.3f}  | Accuracy Train: {train_acc:.3f} |')\n",
    "    print (f'| Epoch: {epoch+1:02} | Validation Loss: {valid_loss:.3f}  | Accuracy Validation: {valid_acc:.3f} |')"
   ]
  },
  {
   "cell_type": "markdown",
   "metadata": {},
   "source": [
    "### We could use 8 epochs as after that validation loss has started increasing - signs of over fitting"
   ]
  },
  {
   "cell_type": "code",
   "execution_count": 36,
   "metadata": {},
   "outputs": [
    {
     "data": {
      "text/plain": [
       "Text(0, 0.5, 'Negative Log Loss')"
      ]
     },
     "execution_count": 36,
     "metadata": {},
     "output_type": "execute_result"
    },
    {
     "data": {
      "image/png": "[encoded data removed]",
      "text/plain": [
       "<Figure size 432x288 with 1 Axes>"
      ]
     },
     "metadata": {
      "needs_background": "light"
     },
     "output_type": "display_data"
    }
   ],
   "source": [
    "plt.plot(train_loss_list)\n",
    "plt.plot(valid_loss_list)\n",
    "plt.legend(['train loss','validation loss'])\n",
    "plt.xlabel('Number of epochs')\n",
    "plt.ylabel('Negative Log Loss')"
   ]
  },
  {
   "cell_type": "markdown",
   "metadata": {},
   "source": [
    "## RNN model using embedding trained during RNN process itself"
   ]
  },
  {
   "cell_type": "code",
   "execution_count": 5,
   "metadata": {},
   "outputs": [
    {
     "name": "stdout",
     "output_type": "stream",
     "text": [
      " The number of distinct vocab is : 37867\n",
      "Indice of word the is : 20\n"
     ]
    }
   ],
   "source": [
    "\n",
    "\n",
    "### Create dataset using build vocab from torch texxt\n",
    "### Build the vocabulary using the embeddings\n",
    "txt_field.build_vocab(train, test, min_freq = 5)\n",
    "# build vocab for labels\n",
    "label_field.build_vocab(train)\n",
    "\n",
    "### Store the pretrained embedding as model embedding weigh data and make it untrainable\n",
    "#### Print look at the frequency of dat\n",
    "label_field.vocab.freqs\n",
    "\n",
    "#### print the length of text field vocab\n",
    "print (\" The number of distinct vocab is :\",len(txt_field.vocab.freqs))\n",
    "\n",
    "#### Checking the indices fo varius words\n",
    "print (\"Indice of word the is :\",txt_field.vocab.stoi['reuters'])\n",
    "\n",
    "### Craete the batch iterator\n",
    "### Create an iterator over Batch of data\n",
    "traindl, testdl = data.BucketIterator.splits(datasets=(train, test), # specify train and validation Tabulardataset\n",
    "                                            batch_size = 32,  # batch size of train and validation\n",
    "                                            sort_key=lambda x: len(x.text_desc2), # on what attribute the text should be sorted\n",
    "                                            device=device, # -1 mean cpu and 0 or None mean gpu\n",
    "                                            sort_within_batch=True, \n",
    "                                            repeat=False)"
   ]
  },
  {
   "cell_type": "code",
   "execution_count": 6,
   "metadata": {},
   "outputs": [
    {
     "name": "stdout",
     "output_type": "stream",
     "text": [
      "torch.Size([7, 32])\n",
      "torch.Size([32])\n"
     ]
    }
   ],
   "source": [
    "\n",
    "#### EVery iterator will have instance of training data and others with diff lengths\n",
    "for i, batch in enumerate(traindl):\n",
    "    print (batch.text_desc2.shape)\n",
    "    print (batch.label.shape)\n",
    "    break"
   ]
  },
  {
   "cell_type": "code",
   "execution_count": 10,
   "metadata": {},
   "outputs": [],
   "source": [
    "### We will use the previous difinition of RNN class just parametres would be diff\n",
    "INPUT_DIM = len(txt_field.vocab) ### Input dimenssion usually equal to length of vocab\n",
    "EMBEDDING_DIM = 100 ### Embedding dimension we are using 100D glove vectors\n",
    "HIDDEN_DIM = 400 #### Number of hidden laye\n",
    "OUTPUT_DIM = 4\n",
    "\n",
    "### Call the rnn module defines\n",
    "model_embed = RNN(INPUT_DIM, EMBEDDING_DIM, HIDDEN_DIM, OUTPUT_DIM)\n",
    "\n",
    "# model.embedding.weight.data = pretrained_embeddings.cpu()\n",
    "### Use a Stochastic gradient descent with learning rate 0.01 , we could have used momentum also\n",
    "optimizer = optim.SGD(model_embed.parameters(),  lr=0.01)\n",
    "### As we are claculating loss on logis we can use cross entrpy which does logsoftmax and negative logloss as backend\n",
    "criterion = nn.CrossEntropyLoss()\n",
    "### Load the model and criterion to the device\n",
    "model_embed = model_embed.to(device)\n",
    "criterion = criterion.to(device)"
   ]
  },
  {
   "cell_type": "code",
   "execution_count": 11,
   "metadata": {},
   "outputs": [
    {
     "name": "stderr",
     "output_type": "stream",
     "text": [
      "0% [██████████████████████████████] 100% | ETA: 00:00:00\n",
      "Total time elapsed: 00:00:31\n",
      "0% [██████████████████████████████] 100% | ETA: 00:00:00\n",
      "Total time elapsed: 00:00:02\n"
     ]
    },
    {
     "name": "stdout",
     "output_type": "stream",
     "text": [
      "| Epoch: 01 | Train Loss: 1.264  | Accuracy Train: 41.172 |\n",
      "| Epoch: 01 | Validation Loss: 1.202  | Accuracy Validation: 46.376 |\n"
     ]
    },
    {
     "name": "stderr",
     "output_type": "stream",
     "text": [
      "0% [██████████████████████████████] 100% | ETA: 00:00:00\n",
      "Total time elapsed: 00:00:30\n",
      "0% [██████████████████████████████] 100% | ETA: 00:00:00\n",
      "Total time elapsed: 00:00:02\n"
     ]
    },
    {
     "name": "stdout",
     "output_type": "stream",
     "text": [
      "| Epoch: 02 | Train Loss: 1.187  | Accuracy Train: 47.932 |\n",
      "| Epoch: 02 | Validation Loss: 1.162  | Accuracy Validation: 48.595 |\n"
     ]
    },
    {
     "name": "stderr",
     "output_type": "stream",
     "text": [
      "0% [██████████████████████████████] 100% | ETA: 00:00:00\n",
      "Total time elapsed: 00:00:29\n",
      "0% [██████████████████████████████] 100% | ETA: 00:00:00\n",
      "Total time elapsed: 00:00:02\n"
     ]
    },
    {
     "name": "stdout",
     "output_type": "stream",
     "text": [
      "| Epoch: 03 | Train Loss: 1.114  | Accuracy Train: 52.678 |\n",
      "| Epoch: 03 | Validation Loss: 1.027  | Accuracy Validation: 56.946 |\n"
     ]
    },
    {
     "name": "stderr",
     "output_type": "stream",
     "text": [
      "0% [██████████████████████████████] 100% | ETA: 00:00:00\n",
      "Total time elapsed: 00:00:29\n",
      "0% [██████████████████████████████] 100% | ETA: 00:00:00\n",
      "Total time elapsed: 00:00:02\n"
     ]
    },
    {
     "name": "stdout",
     "output_type": "stream",
     "text": [
      "| Epoch: 04 | Train Loss: 0.947  | Accuracy Train: 61.894 |\n",
      "| Epoch: 04 | Validation Loss: 0.879  | Accuracy Validation: 64.601 |\n"
     ]
    },
    {
     "name": "stderr",
     "output_type": "stream",
     "text": [
      "0% [██████████████████████████████] 100% | ETA: 00:00:00\n",
      "Total time elapsed: 00:00:31\n",
      "0% [██████████████████████████████] 100% | ETA: 00:00:00\n",
      "Total time elapsed: 00:00:02\n"
     ]
    },
    {
     "name": "stdout",
     "output_type": "stream",
     "text": [
      "| Epoch: 05 | Train Loss: 0.788  | Accuracy Train: 69.531 |\n",
      "| Epoch: 05 | Validation Loss: 0.792  | Accuracy Validation: 69.144 |\n"
     ]
    },
    {
     "name": "stderr",
     "output_type": "stream",
     "text": [
      "0% [██████████████████████████████] 100% | ETA: 00:00:00\n",
      "Total time elapsed: 00:00:29\n",
      "0% [██████████████████████████████] 100% | ETA: 00:00:00\n",
      "Total time elapsed: 00:00:02\n"
     ]
    },
    {
     "name": "stdout",
     "output_type": "stream",
     "text": [
      "| Epoch: 06 | Train Loss: 0.687  | Accuracy Train: 74.151 |\n",
      "| Epoch: 06 | Validation Loss: 0.710  | Accuracy Validation: 73.044 |\n"
     ]
    },
    {
     "name": "stderr",
     "output_type": "stream",
     "text": [
      "0% [██████████████████████████████] 100% | ETA: 00:00:00\n",
      "Total time elapsed: 00:00:30\n",
      "0% [██████████████████████████████] 100% | ETA: 00:00:00\n",
      "Total time elapsed: 00:00:02\n"
     ]
    },
    {
     "name": "stdout",
     "output_type": "stream",
     "text": [
      "| Epoch: 07 | Train Loss: 0.619  | Accuracy Train: 77.014 |\n",
      "| Epoch: 07 | Validation Loss: 0.719  | Accuracy Validation: 73.280 |\n"
     ]
    },
    {
     "name": "stderr",
     "output_type": "stream",
     "text": [
      "0% [██████████████████████████████] 100% | ETA: 00:00:00\n",
      "Total time elapsed: 00:00:29\n",
      "0% [██████████████████████████████] 100% | ETA: 00:00:00\n",
      "Total time elapsed: 00:00:02\n"
     ]
    },
    {
     "name": "stdout",
     "output_type": "stream",
     "text": [
      "| Epoch: 08 | Train Loss: 0.566  | Accuracy Train: 79.215 |\n",
      "| Epoch: 08 | Validation Loss: 0.697  | Accuracy Validation: 75.118 |\n"
     ]
    },
    {
     "name": "stderr",
     "output_type": "stream",
     "text": [
      "0% [██████████████████████████████] 100% | ETA: 00:00:00\n",
      "Total time elapsed: 00:00:31\n",
      "0% [██████████████████████████████] 100% | ETA: 00:00:00\n",
      "Total time elapsed: 00:00:02\n"
     ]
    },
    {
     "name": "stdout",
     "output_type": "stream",
     "text": [
      "| Epoch: 09 | Train Loss: 0.525  | Accuracy Train: 80.813 |\n",
      "| Epoch: 09 | Validation Loss: 0.594  | Accuracy Validation: 78.348 |\n"
     ]
    },
    {
     "name": "stderr",
     "output_type": "stream",
     "text": [
      "0% [██████████████████████████████] 100% | ETA: 00:00:00\n",
      "Total time elapsed: 00:00:29\n",
      "0% [██████████████████████████████] 100% | ETA: 00:00:00\n",
      "Total time elapsed: 00:00:02\n"
     ]
    },
    {
     "name": "stdout",
     "output_type": "stream",
     "text": [
      "| Epoch: 10 | Train Loss: 0.488  | Accuracy Train: 82.202 |\n",
      "| Epoch: 10 | Validation Loss: 0.596  | Accuracy Validation: 78.440 |\n"
     ]
    },
    {
     "name": "stderr",
     "output_type": "stream",
     "text": [
      "0% [██████████████████████████████] 100% | ETA: 00:00:00\n",
      "Total time elapsed: 00:00:29\n",
      "0% [██████████████████████████████] 100% | ETA: 00:00:00\n",
      "Total time elapsed: 00:00:02\n"
     ]
    },
    {
     "name": "stdout",
     "output_type": "stream",
     "text": [
      "| Epoch: 11 | Train Loss: 0.463  | Accuracy Train: 83.218 |\n",
      "| Epoch: 11 | Validation Loss: 0.579  | Accuracy Validation: 79.740 |\n"
     ]
    },
    {
     "name": "stderr",
     "output_type": "stream",
     "text": [
      "0% [██████████████████████████████] 100% | ETA: 00:00:00\n",
      "Total time elapsed: 00:00:30\n",
      "0% [██████████████████████████████] 100% | ETA: 00:00:00\n",
      "Total time elapsed: 00:00:02\n"
     ]
    },
    {
     "name": "stdout",
     "output_type": "stream",
     "text": [
      "| Epoch: 12 | Train Loss: 0.434  | Accuracy Train: 84.271 |\n",
      "| Epoch: 12 | Validation Loss: 0.587  | Accuracy Validation: 79.123 |\n"
     ]
    },
    {
     "name": "stderr",
     "output_type": "stream",
     "text": [
      "0% [██████████████████████████████] 100% | ETA: 00:00:00\n",
      "Total time elapsed: 00:00:30\n",
      "0% [██████████████████████████████] 100% | ETA: 00:00:00\n",
      "Total time elapsed: 00:00:02\n"
     ]
    },
    {
     "name": "stdout",
     "output_type": "stream",
     "text": [
      "| Epoch: 13 | Train Loss: 0.406  | Accuracy Train: 85.342 |\n",
      "| Epoch: 13 | Validation Loss: 0.593  | Accuracy Validation: 79.596 |\n"
     ]
    },
    {
     "name": "stderr",
     "output_type": "stream",
     "text": [
      "0% [██████████████████████████████] 100% | ETA: 00:00:00\n",
      "Total time elapsed: 00:00:29\n",
      "0% [██████████████████████████████] 100% | ETA: 00:00:00\n",
      "Total time elapsed: 00:00:01\n"
     ]
    },
    {
     "name": "stdout",
     "output_type": "stream",
     "text": [
      "| Epoch: 14 | Train Loss: 0.386  | Accuracy Train: 86.061 |\n",
      "| Epoch: 14 | Validation Loss: 0.576  | Accuracy Validation: 79.753 |\n"
     ]
    },
    {
     "name": "stderr",
     "output_type": "stream",
     "text": [
      "0% [██████████████████████████████] 100% | ETA: 00:00:00\n",
      "Total time elapsed: 00:00:33\n",
      "0% [██████████████████████████████] 100% | ETA: 00:00:00\n",
      "Total time elapsed: 00:00:02\n"
     ]
    },
    {
     "name": "stdout",
     "output_type": "stream",
     "text": [
      "| Epoch: 15 | Train Loss: 0.365  | Accuracy Train: 86.892 |\n",
      "| Epoch: 15 | Validation Loss: 0.701  | Accuracy Validation: 76.917 |\n"
     ]
    },
    {
     "name": "stderr",
     "output_type": "stream",
     "text": [
      "0% [██████████████████████████████] 100% | ETA: 00:00:00\n",
      "Total time elapsed: 00:00:30\n",
      "0% [██████████████████████████████] 100% | ETA: 00:00:00\n",
      "Total time elapsed: 00:00:02\n"
     ]
    },
    {
     "name": "stdout",
     "output_type": "stream",
     "text": [
      "| Epoch: 16 | Train Loss: 0.350  | Accuracy Train: 87.424 |\n",
      "| Epoch: 16 | Validation Loss: 0.583  | Accuracy Validation: 80.016 |\n"
     ]
    },
    {
     "name": "stderr",
     "output_type": "stream",
     "text": [
      "0% [██████████████████████████████] 100% | ETA: 00:00:00\n",
      "Total time elapsed: 00:00:30\n",
      "0% [██████████████████████████████] 100% | ETA: 00:00:00\n",
      "Total time elapsed: 00:00:02\n"
     ]
    },
    {
     "name": "stdout",
     "output_type": "stream",
     "text": [
      "| Epoch: 17 | Train Loss: 0.324  | Accuracy Train: 88.278 |\n",
      "| Epoch: 17 | Validation Loss: 0.613  | Accuracy Validation: 79.399 |\n"
     ]
    },
    {
     "name": "stderr",
     "output_type": "stream",
     "text": [
      "0% [██████████████████████████████] 100% | ETA: 00:00:00\n",
      "Total time elapsed: 00:00:34\n",
      "0% [██████████████████████████████] 100% | ETA: 00:00:00\n",
      "Total time elapsed: 00:00:02\n"
     ]
    },
    {
     "name": "stdout",
     "output_type": "stream",
     "text": [
      "| Epoch: 18 | Train Loss: 0.306  | Accuracy Train: 88.895 |\n",
      "| Epoch: 18 | Validation Loss: 0.632  | Accuracy Validation: 79.582 |\n"
     ]
    },
    {
     "name": "stderr",
     "output_type": "stream",
     "text": [
      "0% [██████████████████████████████] 100% | ETA: 00:00:00\n",
      "Total time elapsed: 00:00:31\n",
      "0% [██████████████████████████████] 100% | ETA: 00:00:00\n",
      "Total time elapsed: 00:00:02\n"
     ]
    },
    {
     "name": "stdout",
     "output_type": "stream",
     "text": [
      "| Epoch: 19 | Train Loss: 0.291  | Accuracy Train: 89.480 |\n",
      "| Epoch: 19 | Validation Loss: 0.628  | Accuracy Validation: 79.451 |\n"
     ]
    },
    {
     "name": "stderr",
     "output_type": "stream",
     "text": [
      "0% [██████████████████████████████] 100% | ETA: 00:00:00\n",
      "Total time elapsed: 00:00:33\n",
      "0% [██████████████████████████████] 100% | ETA: 00:00:00\n",
      "Total time elapsed: 00:00:02\n"
     ]
    },
    {
     "name": "stdout",
     "output_type": "stream",
     "text": [
      "| Epoch: 20 | Train Loss: 0.273  | Accuracy Train: 90.109 |\n",
      "| Epoch: 20 | Validation Loss: 0.642  | Accuracy Validation: 79.517 |\n"
     ]
    }
   ],
   "source": [
    "N_EPOCHS = 20\n",
    "train_loss_list = []\n",
    "valid_loss_list = []\n",
    "\n",
    "\n",
    "\n",
    "for epoch in range(N_EPOCHS):\n",
    "\n",
    "    train_loss,train_acc= train(model_embed, traindl, optimizer, criterion)\n",
    "    valid_loss, valid_acc = eval(model_embed,  testdl, criterion)\n",
    "    train_loss_list.append(train_loss)\n",
    "    valid_loss_list.append(valid_loss)\n",
    "    print (f'| Epoch: {epoch+1:02} | Train Loss: {train_loss:.3f}  | Accuracy Train: {train_acc:.3f} |')\n",
    "    print (f'| Epoch: {epoch+1:02} | Validation Loss: {valid_loss:.3f}  | Accuracy Validation: {valid_acc:.3f} |')"
   ]
  },
  {
   "cell_type": "markdown",
   "metadata": {},
   "source": [
    "### Looking at validation loss best epoch is at 10 "
   ]
  },
  {
   "cell_type": "code",
   "execution_count": 12,
   "metadata": {},
   "outputs": [
    {
     "data": {
      "text/plain": [
       "Text(0, 0.5, 'Negative Log Loss')"
      ]
     },
     "execution_count": 12,
     "metadata": {},
     "output_type": "execute_result"
    },
    {
     "data": {
      "image/png": "[encoded data removed]",
      "text/plain": [
       "<Figure size 432x288 with 1 Axes>"
      ]
     },
     "metadata": {
      "needs_background": "light"
     },
     "output_type": "display_data"
    }
   ],
   "source": [
    "plt.plot(train_loss_list)\n",
    "plt.plot(valid_loss_list)\n",
    "plt.legend(['train loss','validation loss'])\n",
    "plt.xlabel('Number of epochs')\n",
    "plt.ylabel('Negative Log Loss')"
   ]
  },
  {
   "cell_type": "markdown",
   "metadata": {},
   "source": [
    "### We know that pretrained embedding are working better for data\n",
    "\n",
    "    1. Hypothesis 1: Pre-trained Glove embeddings are trained on news corpus with millions of new article. As these are trained on bigger data maybe its better to use it"
   ]
  },
  {
   "cell_type": "markdown",
   "metadata": {},
   "source": [
    "### LSTM Trainings : As we have established it works better, we will use pretrained embedding"
   ]
  },
  {
   "cell_type": "code",
   "execution_count": 8,
   "metadata": {},
   "outputs": [],
   "source": [
    "#### Define the LSTM module\n",
    "class LSTM(nn.Module):\n",
    "    def __init__(self, input_dim, embedding_dim, hidden_dim, output_dim):\n",
    "        super().__init__()\n",
    "        \n",
    "        self.embedding = nn.Embedding(input_dim, embedding_dim) ### Input dim and embedding dim\n",
    "       \n",
    "#         self.embedding_dropout = SpatialDropout(0.20) #### 20 % drop out\n",
    "        self.lstm = nn.LSTM(embedding_dim, hidden_dim) ### Rnn cells takes embedding dimesnion as input\n",
    "        self.fc = nn.Linear(hidden_dim, output_dim) ### Fully connected layer\n",
    "        \n",
    "    def forward(self, x):\n",
    "        embedded = self.embedding(x)\n",
    "#         embedded = self.embedding_dropout(embedded)\n",
    "        output, hidden = self.lstm(embedded)\n",
    "#         assert torch.equal(output[-1,:,:], hidden.squeeze(0))\n",
    "        out = self.fc(hidden[-1])\n",
    "#         outputs=self.act(out)\n",
    "        return out\n",
    "\n",
    "### define a function which takes logits and actuals lables and predicts accuracy\n",
    "def accuracy_bin(preds,labels):\n",
    "    top_n,top_i = preds.topk(1)\n",
    "    correct = 0\n",
    "    for i in range(len(labels)):\n",
    "       if labels[i] ==  top_i[i]:\n",
    "            correct +=1\n",
    "    return ((correct/len(labels))*100)"
   ]
  },
  {
   "cell_type": "markdown",
   "metadata": {},
   "source": [
    "### Define various parameters of the model"
   ]
  },
  {
   "cell_type": "code",
   "execution_count": 9,
   "metadata": {},
   "outputs": [],
   "source": [
    "INPUT_DIM = len(txt_field.vocab) ### Input dimenssion usually equal to length of vocab\n",
    "EMBEDDING_DIM = 100 ### Embedding dimension we are using 100D glove vectors\n",
    "HIDDEN_DIM = 400 #### Number of hidden laye\n",
    "OUTPUT_DIM = 4\n",
    "\n",
    "### Call the rnn module defines\n",
    "model = LSTM(INPUT_DIM, EMBEDDING_DIM, HIDDEN_DIM, OUTPUT_DIM)\n",
    "### Set the embedding weights to rpedefines weights of Glove\n",
    "model.embedding.weight.data = pretrained_embeddings.cuda()\n",
    "# model.embedding.weight.data = pretrained_embeddings.cpu()\n",
    "### Use a Stochastic gradient descent with learning rate 0.01 , we could have used momentum also\n",
    "optimizer = optim.SGD(model.parameters(),  lr=0.01)\n",
    "### As we are claculating loss on logis we can use cross entrpy which does logsoftmax and negative logloss as backend\n",
    "criterion = nn.CrossEntropyLoss()\n",
    "### Load the model and criterion to the device\n",
    "model = model.to(device)\n",
    "criterion = criterion.to(device)"
   ]
  },
  {
   "cell_type": "code",
   "execution_count": 11,
   "metadata": {},
   "outputs": [
    {
     "name": "stderr",
     "output_type": "stream",
     "text": [
      "0% [██████████████████████████████] 100% | ETA: 00:00:00\n",
      "Total time elapsed: 00:00:42\n",
      "0% [██████████████████████████████] 100% | ETA: 00:00:00\n",
      "Total time elapsed: 00:00:01\n"
     ]
    },
    {
     "name": "stdout",
     "output_type": "stream",
     "text": [
      "| Epoch: 01 | Train Loss: 0.669  | Accuracy Train: 76.889 |\n",
      "| Epoch: 01 | Validation Loss: 0.485  | Accuracy Validation: 82.996 |\n"
     ]
    },
    {
     "name": "stderr",
     "output_type": "stream",
     "text": [
      "0% [██████████████████████████████] 100% | ETA: 00:00:00\n",
      "Total time elapsed: 00:00:35\n",
      "0% [██████████████████████████████] 100% | ETA: 00:00:00\n",
      "Total time elapsed: 00:00:02\n"
     ]
    },
    {
     "name": "stdout",
     "output_type": "stream",
     "text": [
      "| Epoch: 02 | Train Loss: 0.478  | Accuracy Train: 83.270 |\n",
      "| Epoch: 02 | Validation Loss: 0.478  | Accuracy Validation: 83.220 |\n"
     ]
    },
    {
     "name": "stderr",
     "output_type": "stream",
     "text": [
      "0% [██████████████████████████████] 100% | ETA: 00:00:00\n",
      "Total time elapsed: 00:00:36\n",
      "0% [██████████████████████████████] 100% | ETA: 00:00:00\n",
      "Total time elapsed: 00:00:03\n"
     ]
    },
    {
     "name": "stdout",
     "output_type": "stream",
     "text": [
      "| Epoch: 03 | Train Loss: 0.460  | Accuracy Train: 83.740 |\n",
      "| Epoch: 03 | Validation Loss: 0.454  | Accuracy Validation: 83.876 |\n"
     ]
    },
    {
     "name": "stderr",
     "output_type": "stream",
     "text": [
      "0% [██████████████████████████████] 100% | ETA: 00:00:00\n",
      "Total time elapsed: 00:00:39\n",
      "0% [██████████████████████████████] 100% | ETA: 00:00:00\n",
      "Total time elapsed: 00:00:02\n"
     ]
    },
    {
     "name": "stdout",
     "output_type": "stream",
     "text": [
      "| Epoch: 04 | Train Loss: 0.448  | Accuracy Train: 84.131 |\n",
      "| Epoch: 04 | Validation Loss: 0.445  | Accuracy Validation: 84.309 |\n"
     ]
    },
    {
     "name": "stderr",
     "output_type": "stream",
     "text": [
      "0% [██████████████████████████████] 100% | ETA: 00:00:00\n",
      "Total time elapsed: 00:00:34\n",
      "0% [██████████████████████████████] 100% | ETA: 00:00:00\n",
      "Total time elapsed: 00:00:02\n"
     ]
    },
    {
     "name": "stdout",
     "output_type": "stream",
     "text": [
      "| Epoch: 05 | Train Loss: 0.438  | Accuracy Train: 84.421 |\n",
      "| Epoch: 05 | Validation Loss: 0.437  | Accuracy Validation: 84.703 |\n"
     ]
    },
    {
     "name": "stderr",
     "output_type": "stream",
     "text": [
      "0% [██████████████████████████████] 100% | ETA: 00:00:00\n",
      "Total time elapsed: 00:00:34\n",
      "0% [██████████████████████████████] 100% | ETA: 00:00:00\n",
      "Total time elapsed: 00:00:02\n"
     ]
    },
    {
     "name": "stdout",
     "output_type": "stream",
     "text": [
      "| Epoch: 06 | Train Loss: 0.429  | Accuracy Train: 84.772 |\n",
      "| Epoch: 06 | Validation Loss: 0.427  | Accuracy Validation: 85.032 |\n"
     ]
    },
    {
     "name": "stderr",
     "output_type": "stream",
     "text": [
      "0% [██████████████████████████████] 100% | ETA: 00:00:00\n",
      "Total time elapsed: 00:00:41\n",
      "0% [██████████████████████████████] 100% | ETA: 00:00:00\n",
      "Total time elapsed: 00:00:03\n"
     ]
    },
    {
     "name": "stdout",
     "output_type": "stream",
     "text": [
      "| Epoch: 07 | Train Loss: 0.421  | Accuracy Train: 84.897 |\n",
      "| Epoch: 07 | Validation Loss: 0.423  | Accuracy Validation: 85.176 |\n"
     ]
    },
    {
     "name": "stderr",
     "output_type": "stream",
     "text": [
      "0% [██████████████████████████████] 100% | ETA: 00:00:00\n",
      "Total time elapsed: 00:00:40\n",
      "0% [██████████████████████████████] 100% | ETA: 00:00:00\n",
      "Total time elapsed: 00:00:01\n"
     ]
    },
    {
     "name": "stdout",
     "output_type": "stream",
     "text": [
      "| Epoch: 08 | Train Loss: 0.414  | Accuracy Train: 85.237 |\n",
      "| Epoch: 08 | Validation Loss: 0.413  | Accuracy Validation: 85.334 |\n"
     ]
    },
    {
     "name": "stderr",
     "output_type": "stream",
     "text": [
      "0% [██████████████████████████████] 100% | ETA: 00:00:00\n",
      "Total time elapsed: 00:00:40\n",
      "0% [██████████████████████████████] 100% | ETA: 00:00:00\n",
      "Total time elapsed: 00:00:02\n"
     ]
    },
    {
     "name": "stdout",
     "output_type": "stream",
     "text": [
      "| Epoch: 09 | Train Loss: 0.408  | Accuracy Train: 85.403 |\n",
      "| Epoch: 09 | Validation Loss: 0.407  | Accuracy Validation: 85.662 |\n"
     ]
    },
    {
     "name": "stderr",
     "output_type": "stream",
     "text": [
      "0% [██████████████████████████████] 100% | ETA: 00:00:00\n",
      "Total time elapsed: 00:00:37\n",
      "0% [██████████████████████████████] 100% | ETA: 00:00:00\n",
      "Total time elapsed: 00:00:02\n"
     ]
    },
    {
     "name": "stdout",
     "output_type": "stream",
     "text": [
      "| Epoch: 10 | Train Loss: 0.402  | Accuracy Train: 85.605 |\n",
      "| Epoch: 10 | Validation Loss: 0.401  | Accuracy Validation: 86.082 |\n"
     ]
    },
    {
     "name": "stderr",
     "output_type": "stream",
     "text": [
      "0% [██████████████████████████████] 100% | ETA: 00:00:00\n",
      "Total time elapsed: 00:00:32\n",
      "0% [██████████████████████████████] 100% | ETA: 00:00:00\n",
      "Total time elapsed: 00:00:01\n"
     ]
    },
    {
     "name": "stdout",
     "output_type": "stream",
     "text": [
      "| Epoch: 11 | Train Loss: 0.396  | Accuracy Train: 85.823 |\n",
      "| Epoch: 11 | Validation Loss: 0.398  | Accuracy Validation: 86.187 |\n"
     ]
    },
    {
     "name": "stderr",
     "output_type": "stream",
     "text": [
      "0% [██████████████████████████████] 100% | ETA: 00:00:00\n",
      "Total time elapsed: 00:00:30\n",
      "0% [██████████████████████████████] 100% | ETA: 00:00:00\n",
      "Total time elapsed: 00:00:01\n"
     ]
    },
    {
     "name": "stdout",
     "output_type": "stream",
     "text": [
      "| Epoch: 12 | Train Loss: 0.391  | Accuracy Train: 85.994 |\n",
      "| Epoch: 12 | Validation Loss: 0.393  | Accuracy Validation: 86.239 |\n"
     ]
    },
    {
     "name": "stderr",
     "output_type": "stream",
     "text": [
      "0% [██████████████████████████████] 100% | ETA: 00:00:00\n",
      "Total time elapsed: 00:00:30\n",
      "0% [██████████████████████████████] 100% | ETA: 00:00:00\n",
      "Total time elapsed: 00:00:01\n"
     ]
    },
    {
     "name": "stdout",
     "output_type": "stream",
     "text": [
      "| Epoch: 13 | Train Loss: 0.387  | Accuracy Train: 86.132 |\n",
      "| Epoch: 13 | Validation Loss: 0.388  | Accuracy Validation: 86.292 |\n"
     ]
    },
    {
     "name": "stderr",
     "output_type": "stream",
     "text": [
      "0% [██████████████████████████████] 100% | ETA: 00:00:00\n",
      "Total time elapsed: 00:00:31\n",
      "0% [██████████████████████████████] 100% | ETA: 00:00:00\n",
      "Total time elapsed: 00:00:02\n"
     ]
    },
    {
     "name": "stdout",
     "output_type": "stream",
     "text": [
      "| Epoch: 14 | Train Loss: 0.382  | Accuracy Train: 86.342 |\n",
      "| Epoch: 14 | Validation Loss: 0.396  | Accuracy Validation: 85.872 |\n"
     ]
    },
    {
     "name": "stderr",
     "output_type": "stream",
     "text": [
      "0% [██████████████████████████████] 100% | ETA: 00:00:00\n",
      "Total time elapsed: 00:00:30\n",
      "0% [██████████████████████████████] 100% | ETA: 00:00:00\n",
      "Total time elapsed: 00:00:01\n"
     ]
    },
    {
     "name": "stdout",
     "output_type": "stream",
     "text": [
      "| Epoch: 15 | Train Loss: 0.378  | Accuracy Train: 86.417 |\n",
      "| Epoch: 15 | Validation Loss: 0.384  | Accuracy Validation: 86.555 |\n"
     ]
    },
    {
     "name": "stderr",
     "output_type": "stream",
     "text": [
      "0% [██████████████████████████████] 100% | ETA: 00:00:00\n",
      "Total time elapsed: 00:00:30\n",
      "0% [██████████████████████████████] 100% | ETA: 00:00:00\n",
      "Total time elapsed: 00:00:01\n"
     ]
    },
    {
     "name": "stdout",
     "output_type": "stream",
     "text": [
      "| Epoch: 16 | Train Loss: 0.373  | Accuracy Train: 86.615 |\n",
      "| Epoch: 16 | Validation Loss: 0.378  | Accuracy Validation: 86.752 |\n"
     ]
    },
    {
     "name": "stderr",
     "output_type": "stream",
     "text": [
      "0% [██████████████████████████████] 100% | ETA: 00:00:00\n",
      "Total time elapsed: 00:00:30\n",
      "0% [██████████████████████████████] 100% | ETA: 00:00:00\n",
      "Total time elapsed: 00:00:01\n"
     ]
    },
    {
     "name": "stdout",
     "output_type": "stream",
     "text": [
      "| Epoch: 17 | Train Loss: 0.370  | Accuracy Train: 86.733 |\n",
      "| Epoch: 17 | Validation Loss: 0.376  | Accuracy Validation: 86.725 |\n"
     ]
    },
    {
     "name": "stderr",
     "output_type": "stream",
     "text": [
      "0% [██████████████████████████████] 100% | ETA: 00:00:00\n",
      "Total time elapsed: 00:00:30\n",
      "0% [██████████████████████████████] 100% | ETA: 00:00:00\n",
      "Total time elapsed: 00:00:01\n"
     ]
    },
    {
     "name": "stdout",
     "output_type": "stream",
     "text": [
      "| Epoch: 18 | Train Loss: 0.366  | Accuracy Train: 86.873 |\n",
      "| Epoch: 18 | Validation Loss: 0.375  | Accuracy Validation: 86.778 |\n"
     ]
    }
   ],
   "source": [
    "N_EPOCHS = 18\n",
    "train_loss_list = []\n",
    "valid_loss_list = []\n",
    "\n",
    "\n",
    "\n",
    "for epoch in range(N_EPOCHS):\n",
    "\n",
    "    train_loss,train_acc= train(model, traindl, optimizer, criterion)\n",
    "    valid_loss, valid_acc = eval(model,  testdl, criterion)\n",
    "    train_loss_list.append(train_loss)\n",
    "    valid_loss_list.append(valid_loss)\n",
    "    print (f'| Epoch: {epoch+1:02} | Train Loss: {train_loss:.3f}  | Accuracy Train: {train_acc:.3f} |')\n",
    "    print (f'| Epoch: {epoch+1:02} | Validation Loss: {valid_loss:.3f}  | Accuracy Validation: {valid_acc:.3f} |')"
   ]
  },
  {
   "cell_type": "code",
   "execution_count": 15,
   "metadata": {},
   "outputs": [
    {
     "data": {
      "image/png": "[encoded data removed]",
      "text/plain": [
       "<Figure size 432x288 with 1 Axes>"
      ]
     },
     "metadata": {
      "needs_background": "light"
     },
     "output_type": "display_data"
    }
   ],
   "source": [
    "plotting(train_loss_list,valid_loss_list)"
   ]
  },
  {
   "cell_type": "markdown",
   "metadata": {},
   "source": [
    "### LSTM is performing better than RNN by around 2%"
   ]
  },
  {
   "cell_type": "markdown",
   "metadata": {},
   "source": [
    "#### LSTM with dropout at input embeding layer"
   ]
  },
  {
   "cell_type": "code",
   "execution_count": 8,
   "metadata": {},
   "outputs": [],
   "source": [
    "#### Define the LSTM module\n",
    "class LSTM_dropout(nn.Module):\n",
    "    def __init__(self, input_dim, embedding_dim, hidden_dim, output_dim,dropout):\n",
    "        super().__init__()\n",
    "        \n",
    "        self.embedding = nn.Embedding(input_dim, embedding_dim) ### Input dim and embedding dim\n",
    "        self.dropout = nn.Dropout(dropout)\n",
    "#         self.embedding_dropout = SpatialDropout(0.20) #### 20 % drop out\n",
    "        self.lstm = nn.LSTM(embedding_dim, hidden_dim) ### Rnn cells takes embedding dimesnion as input\n",
    "        self.fc = nn.Linear(hidden_dim, output_dim) ### Fully connected layer\n",
    "        \n",
    "    def forward(self, x):\n",
    "        embedded = self.embedding(x)\n",
    "#         embedded = self.embedding_dropout(embedded)\n",
    "        embed = self.dropout(embedded)\n",
    "        output, hidden = self.lstm(embed)\n",
    "#         assert torch.equal(output[-1,:,:], hidden.squeeze(0))\n",
    "        out = self.fc(hidden[-1])\n",
    "#         outputs=self.act(out)\n",
    "        return out\n",
    "\n",
    "### define a function which takes logits and actuals lables and predicts accuracy\n",
    "def accuracy_bin(preds,labels):\n",
    "    top_n,top_i = preds.topk(1)\n",
    "    correct = 0\n",
    "    for i in range(len(labels)):\n",
    "       if labels[i] ==  top_i[i]:\n",
    "            correct +=1\n",
    "    return ((correct/len(labels))*100)"
   ]
  },
  {
   "cell_type": "markdown",
   "metadata": {},
   "source": [
    "### Define various parameters for the models"
   ]
  },
  {
   "cell_type": "code",
   "execution_count": 9,
   "metadata": {},
   "outputs": [],
   "source": [
    "INPUT_DIM = len(txt_field.vocab) ### Input dimenssion usually equal to length of vocab\n",
    "EMBEDDING_DIM = 100 ### Embedding dimension we are using 100D glove vectors\n",
    "HIDDEN_DIM = 400 #### Number of hidden laye\n",
    "OUTPUT_DIM = 4\n",
    "DROPOUT = 0.2\n",
    "### Call the rnn module defines\n",
    "model = LSTM_dropout(INPUT_DIM, EMBEDDING_DIM, HIDDEN_DIM, OUTPUT_DIM,DROPOUT)\n",
    "### Set the embedding weights to rpedefines weights of Glove\n",
    "model.embedding.weight.data = pretrained_embeddings.cuda()\n",
    "# model.embedding.weight.data = pretrained_embeddings.cpu()\n",
    "### Use a Stochastic gradient descent with learning rate 0.01 , we could have used momentum also\n",
    "optimizer = optim.SGD(model.parameters(),  lr=0.01)\n",
    "### As we are claculating loss on logis we can use cross entrpy which does logsoftmax and negative logloss as backend\n",
    "criterion = nn.CrossEntropyLoss()\n",
    "### Load the model and criterion to the device\n",
    "model = model.to(device)\n",
    "criterion = criterion.to(device)"
   ]
  },
  {
   "cell_type": "code",
   "execution_count": 10,
   "metadata": {},
   "outputs": [
    {
     "name": "stderr",
     "output_type": "stream",
     "text": [
      "0% [██████████████████████████████] 100% | ETA: 00:00:00\n",
      "Total time elapsed: 00:00:35\n",
      "0% [██████████████████████████████] 100% | ETA: 00:00:00\n",
      "Total time elapsed: 00:00:01\n"
     ]
    },
    {
     "name": "stdout",
     "output_type": "stream",
     "text": [
      "| Epoch: 01 | Train Loss: 0.702  | Accuracy Train: 75.118 |\n",
      "| Epoch: 01 | Validation Loss: 0.491  | Accuracy Validation: 83.220 |\n"
     ]
    },
    {
     "name": "stderr",
     "output_type": "stream",
     "text": [
      "0% [██████████████████████████████] 100% | ETA: 00:00:00\n",
      "Total time elapsed: 00:00:31\n",
      "0% [██████████████████████████████] 100% | ETA: 00:00:00\n",
      "Total time elapsed: 00:00:01\n"
     ]
    },
    {
     "name": "stdout",
     "output_type": "stream",
     "text": [
      "| Epoch: 02 | Train Loss: 0.515  | Accuracy Train: 81.702 |\n",
      "| Epoch: 02 | Validation Loss: 0.467  | Accuracy Validation: 83.259 |\n"
     ]
    },
    {
     "name": "stderr",
     "output_type": "stream",
     "text": [
      "0% [██████████████████████████████] 100% | ETA: 00:00:00\n",
      "Total time elapsed: 00:00:32\n",
      "0% [██████████████████████████████] 100% | ETA: 00:00:00\n",
      "Total time elapsed: 00:00:02\n"
     ]
    },
    {
     "name": "stdout",
     "output_type": "stream",
     "text": [
      "| Epoch: 03 | Train Loss: 0.494  | Accuracy Train: 82.443 |\n",
      "| Epoch: 03 | Validation Loss: 0.451  | Accuracy Validation: 84.244 |\n"
     ]
    },
    {
     "name": "stderr",
     "output_type": "stream",
     "text": [
      "0% [██████████████████████████████] 100% | ETA: 00:00:00\n",
      "Total time elapsed: 00:00:31\n",
      "0% [██████████████████████████████] 100% | ETA: 00:00:00\n",
      "Total time elapsed: 00:00:02\n"
     ]
    },
    {
     "name": "stdout",
     "output_type": "stream",
     "text": [
      "| Epoch: 04 | Train Loss: 0.480  | Accuracy Train: 82.870 |\n",
      "| Epoch: 04 | Validation Loss: 0.462  | Accuracy Validation: 83.469 |\n"
     ]
    },
    {
     "name": "stderr",
     "output_type": "stream",
     "text": [
      "0% [██████████████████████████████] 100% | ETA: 00:00:00\n",
      "Total time elapsed: 00:00:32\n",
      "0% [██████████████████████████████] 100% | ETA: 00:00:00\n",
      "Total time elapsed: 00:00:02\n"
     ]
    },
    {
     "name": "stdout",
     "output_type": "stream",
     "text": [
      "| Epoch: 05 | Train Loss: 0.470  | Accuracy Train: 83.177 |\n",
      "| Epoch: 05 | Validation Loss: 0.435  | Accuracy Validation: 84.638 |\n"
     ]
    },
    {
     "name": "stderr",
     "output_type": "stream",
     "text": [
      "0% [██████████████████████████████] 100% | ETA: 00:00:00\n",
      "Total time elapsed: 00:00:31\n",
      "0% [██████████████████████████████] 100% | ETA: 00:00:00\n",
      "Total time elapsed: 00:00:01\n"
     ]
    },
    {
     "name": "stdout",
     "output_type": "stream",
     "text": [
      "| Epoch: 06 | Train Loss: 0.460  | Accuracy Train: 83.557 |\n",
      "| Epoch: 06 | Validation Loss: 0.430  | Accuracy Validation: 84.690 |\n"
     ]
    },
    {
     "name": "stderr",
     "output_type": "stream",
     "text": [
      "0% [██████████████████████████████] 100% | ETA: 00:00:00\n",
      "Total time elapsed: 00:00:31\n",
      "0% [██████████████████████████████] 100% | ETA: 00:00:00\n",
      "Total time elapsed: 00:00:01\n"
     ]
    },
    {
     "name": "stdout",
     "output_type": "stream",
     "text": [
      "| Epoch: 07 | Train Loss: 0.450  | Accuracy Train: 83.929 |\n",
      "| Epoch: 07 | Validation Loss: 0.417  | Accuracy Validation: 85.176 |\n"
     ]
    },
    {
     "name": "stderr",
     "output_type": "stream",
     "text": [
      "0% [██████████████████████████████] 100% | ETA: 00:00:00\n",
      "Total time elapsed: 00:00:31\n",
      "0% [██████████████████████████████] 100% | ETA: 00:00:00\n",
      "Total time elapsed: 00:00:01\n"
     ]
    },
    {
     "name": "stdout",
     "output_type": "stream",
     "text": [
      "| Epoch: 08 | Train Loss: 0.443  | Accuracy Train: 84.080 |\n",
      "| Epoch: 08 | Validation Loss: 0.414  | Accuracy Validation: 85.360 |\n"
     ]
    },
    {
     "name": "stderr",
     "output_type": "stream",
     "text": [
      "0% [██████████████████████████████] 100% | ETA: 00:00:00\n",
      "Total time elapsed: 00:00:31\n",
      "0% [██████████████████████████████] 100% | ETA: 00:00:00\n",
      "Total time elapsed: 00:00:01\n"
     ]
    },
    {
     "name": "stdout",
     "output_type": "stream",
     "text": [
      "| Epoch: 09 | Train Loss: 0.436  | Accuracy Train: 84.408 |\n",
      "| Epoch: 09 | Validation Loss: 0.404  | Accuracy Validation: 85.872 |\n"
     ]
    },
    {
     "name": "stderr",
     "output_type": "stream",
     "text": [
      "0% [██████████████████████████████] 100% | ETA: 00:00:00\n",
      "Total time elapsed: 00:00:31\n",
      "0% [██████████████████████████████] 100% | ETA: 00:00:00\n",
      "Total time elapsed: 00:00:01\n"
     ]
    },
    {
     "name": "stdout",
     "output_type": "stream",
     "text": [
      "| Epoch: 10 | Train Loss: 0.432  | Accuracy Train: 84.422 |\n",
      "| Epoch: 10 | Validation Loss: 0.402  | Accuracy Validation: 85.846 |\n"
     ]
    },
    {
     "name": "stderr",
     "output_type": "stream",
     "text": [
      "0% [██████████████████████████████] 100% | ETA: 00:00:00\n",
      "Total time elapsed: 00:00:31\n",
      "0% [██████████████████████████████] 100% | ETA: 00:00:00\n",
      "Total time elapsed: 00:00:01\n"
     ]
    },
    {
     "name": "stdout",
     "output_type": "stream",
     "text": [
      "| Epoch: 11 | Train Loss: 0.425  | Accuracy Train: 84.674 |\n",
      "| Epoch: 11 | Validation Loss: 0.407  | Accuracy Validation: 85.793 |\n"
     ]
    },
    {
     "name": "stderr",
     "output_type": "stream",
     "text": [
      "0% [██████████████████████████████] 100% | ETA: 00:00:00\n",
      "Total time elapsed: 00:00:31\n",
      "0% [██████████████████████████████] 100% | ETA: 00:00:00\n",
      "Total time elapsed: 00:00:01\n"
     ]
    },
    {
     "name": "stdout",
     "output_type": "stream",
     "text": [
      "| Epoch: 12 | Train Loss: 0.421  | Accuracy Train: 84.838 |\n",
      "| Epoch: 12 | Validation Loss: 0.406  | Accuracy Validation: 85.517 |\n"
     ]
    },
    {
     "name": "stderr",
     "output_type": "stream",
     "text": [
      "0% [██████████████████████████████] 100% | ETA: 00:00:00\n",
      "Total time elapsed: 00:00:31\n",
      "0% [██████████████████████████████] 100% | ETA: 00:00:00\n",
      "Total time elapsed: 00:00:01\n"
     ]
    },
    {
     "name": "stdout",
     "output_type": "stream",
     "text": [
      "| Epoch: 13 | Train Loss: 0.416  | Accuracy Train: 85.054 |\n",
      "| Epoch: 13 | Validation Loss: 0.387  | Accuracy Validation: 86.305 |\n"
     ]
    },
    {
     "name": "stderr",
     "output_type": "stream",
     "text": [
      "0% [██████████████████████████████] 100% | ETA: 00:00:00\n",
      "Total time elapsed: 00:00:30\n",
      "0% [██████████████████████████████] 100% | ETA: 00:00:00\n",
      "Total time elapsed: 00:00:01\n"
     ]
    },
    {
     "name": "stdout",
     "output_type": "stream",
     "text": [
      "| Epoch: 14 | Train Loss: 0.412  | Accuracy Train: 85.109 |\n",
      "| Epoch: 14 | Validation Loss: 0.388  | Accuracy Validation: 86.279 |\n"
     ]
    },
    {
     "name": "stderr",
     "output_type": "stream",
     "text": [
      "0% [██████████████████████████████] 100% | ETA: 00:00:00\n",
      "Total time elapsed: 00:00:30\n",
      "0% [██████████████████████████████] 100% | ETA: 00:00:00\n",
      "Total time elapsed: 00:00:01\n"
     ]
    },
    {
     "name": "stdout",
     "output_type": "stream",
     "text": [
      "| Epoch: 15 | Train Loss: 0.408  | Accuracy Train: 85.326 |\n",
      "| Epoch: 15 | Validation Loss: 0.385  | Accuracy Validation: 86.384 |\n"
     ]
    },
    {
     "name": "stderr",
     "output_type": "stream",
     "text": [
      "0% [██████████████████████████████] 100% | ETA: 00:00:00\n",
      "Total time elapsed: 00:00:31\n",
      "0% [██████████████████████████████] 100% | ETA: 00:00:00\n",
      "Total time elapsed: 00:00:01\n"
     ]
    },
    {
     "name": "stdout",
     "output_type": "stream",
     "text": [
      "| Epoch: 16 | Train Loss: 0.404  | Accuracy Train: 85.423 |\n",
      "| Epoch: 16 | Validation Loss: 0.381  | Accuracy Validation: 86.673 |\n"
     ]
    },
    {
     "name": "stderr",
     "output_type": "stream",
     "text": [
      "0% [██████████████████████████████] 100% | ETA: 00:00:00\n",
      "Total time elapsed: 00:00:31\n",
      "0% [██████████████████████████████] 100% | ETA: 00:00:00\n",
      "Total time elapsed: 00:00:01\n"
     ]
    },
    {
     "name": "stdout",
     "output_type": "stream",
     "text": [
      "| Epoch: 17 | Train Loss: 0.400  | Accuracy Train: 85.531 |\n",
      "| Epoch: 17 | Validation Loss: 0.377  | Accuracy Validation: 86.830 |\n"
     ]
    },
    {
     "name": "stderr",
     "output_type": "stream",
     "text": [
      "0% [██████████████████████████████] 100% | ETA: 00:00:00\n",
      "Total time elapsed: 00:00:31\n",
      "0% [██████████████████████████████] 100% | ETA: 00:00:00\n",
      "Total time elapsed: 00:00:01\n"
     ]
    },
    {
     "name": "stdout",
     "output_type": "stream",
     "text": [
      "| Epoch: 18 | Train Loss: 0.396  | Accuracy Train: 85.743 |\n",
      "| Epoch: 18 | Validation Loss: 0.373  | Accuracy Validation: 86.909 |\n"
     ]
    },
    {
     "name": "stderr",
     "output_type": "stream",
     "text": [
      "0% [██████████████████████████████] 100% | ETA: 00:00:00\n",
      "Total time elapsed: 00:00:31\n",
      "0% [██████████████████████████████] 100% | ETA: 00:00:00\n",
      "Total time elapsed: 00:00:01\n"
     ]
    },
    {
     "name": "stdout",
     "output_type": "stream",
     "text": [
      "| Epoch: 19 | Train Loss: 0.394  | Accuracy Train: 85.832 |\n",
      "| Epoch: 19 | Validation Loss: 0.371  | Accuracy Validation: 86.949 |\n"
     ]
    },
    {
     "name": "stderr",
     "output_type": "stream",
     "text": [
      "0% [██████████████████████████████] 100% | ETA: 00:00:00\n",
      "Total time elapsed: 00:00:31\n",
      "0% [██████████████████████████████] 100% | ETA: 00:00:00\n",
      "Total time elapsed: 00:00:01\n"
     ]
    },
    {
     "name": "stdout",
     "output_type": "stream",
     "text": [
      "| Epoch: 20 | Train Loss: 0.390  | Accuracy Train: 85.936 |\n",
      "| Epoch: 20 | Validation Loss: 0.372  | Accuracy Validation: 86.962 |\n"
     ]
    },
    {
     "name": "stderr",
     "output_type": "stream",
     "text": [
      "0% [██████████████████████████████] 100% | ETA: 00:00:00\n",
      "Total time elapsed: 00:00:31\n",
      "0% [██████████████████████████████] 100% | ETA: 00:00:00\n",
      "Total time elapsed: 00:00:01\n"
     ]
    },
    {
     "name": "stdout",
     "output_type": "stream",
     "text": [
      "| Epoch: 21 | Train Loss: 0.388  | Accuracy Train: 86.059 |\n",
      "| Epoch: 21 | Validation Loss: 0.369  | Accuracy Validation: 86.922 |\n"
     ]
    },
    {
     "name": "stderr",
     "output_type": "stream",
     "text": [
      "0% [██████████████████████████████] 100% | ETA: 00:00:00\n",
      "Total time elapsed: 00:00:31\n",
      "0% [██████████████████████████████] 100% | ETA: 00:00:00\n",
      "Total time elapsed: 00:00:01\n"
     ]
    },
    {
     "name": "stdout",
     "output_type": "stream",
     "text": [
      "| Epoch: 22 | Train Loss: 0.386  | Accuracy Train: 85.993 |\n",
      "| Epoch: 22 | Validation Loss: 0.368  | Accuracy Validation: 87.040 |\n"
     ]
    },
    {
     "name": "stderr",
     "output_type": "stream",
     "text": [
      "0% [██████████████████████████████] 100% | ETA: 00:00:00\n",
      "Total time elapsed: 00:00:31\n",
      "0% [██████████████████████████████] 100% | ETA: 00:00:00\n",
      "Total time elapsed: 00:00:01\n"
     ]
    },
    {
     "name": "stdout",
     "output_type": "stream",
     "text": [
      "| Epoch: 23 | Train Loss: 0.384  | Accuracy Train: 86.149 |\n",
      "| Epoch: 23 | Validation Loss: 0.368  | Accuracy Validation: 87.080 |\n"
     ]
    },
    {
     "name": "stderr",
     "output_type": "stream",
     "text": [
      "0% [██████████████████████████████] 100% | ETA: 00:00:00\n",
      "Total time elapsed: 00:00:30\n",
      "0% [██████████████████████████████] 100% | ETA: 00:00:00\n",
      "Total time elapsed: 00:00:01\n"
     ]
    },
    {
     "name": "stdout",
     "output_type": "stream",
     "text": [
      "| Epoch: 24 | Train Loss: 0.380  | Accuracy Train: 86.326 |\n",
      "| Epoch: 24 | Validation Loss: 0.364  | Accuracy Validation: 87.224 |\n"
     ]
    },
    {
     "name": "stderr",
     "output_type": "stream",
     "text": [
      "0% [██████████████████████████████] 100% | ETA: 00:00:00\n",
      "Total time elapsed: 00:00:34\n",
      "0% [██████████████████████████████] 100% | ETA: 00:00:00\n",
      "Total time elapsed: 00:00:02\n"
     ]
    },
    {
     "name": "stdout",
     "output_type": "stream",
     "text": [
      "| Epoch: 25 | Train Loss: 0.378  | Accuracy Train: 86.418 |\n",
      "| Epoch: 25 | Validation Loss: 0.367  | Accuracy Validation: 86.949 |\n"
     ]
    },
    {
     "name": "stderr",
     "output_type": "stream",
     "text": [
      "0% [██████████████████████████████] 100% | ETA: 00:00:00\n",
      "Total time elapsed: 00:00:32\n",
      "0% [██████████████████████████████] 100% | ETA: 00:00:00\n",
      "Total time elapsed: 00:00:02\n"
     ]
    },
    {
     "name": "stdout",
     "output_type": "stream",
     "text": [
      "| Epoch: 26 | Train Loss: 0.376  | Accuracy Train: 86.414 |\n",
      "| Epoch: 26 | Validation Loss: 0.380  | Accuracy Validation: 86.752 |\n"
     ]
    },
    {
     "name": "stderr",
     "output_type": "stream",
     "text": [
      "0% [██████████████████████████████] 100% | ETA: 00:00:00\n",
      "Total time elapsed: 00:00:31\n",
      "0% [██████████████████████████████] 100% | ETA: 00:00:00\n",
      "Total time elapsed: 00:00:01\n"
     ]
    },
    {
     "name": "stdout",
     "output_type": "stream",
     "text": [
      "| Epoch: 27 | Train Loss: 0.374  | Accuracy Train: 86.453 |\n",
      "| Epoch: 27 | Validation Loss: 0.357  | Accuracy Validation: 87.447 |\n"
     ]
    },
    {
     "name": "stderr",
     "output_type": "stream",
     "text": [
      "0% [██████████████████████████████] 100% | ETA: 00:00:00\n",
      "Total time elapsed: 00:00:33\n",
      "0% [██████████████████████████████] 100% | ETA: 00:00:00\n",
      "Total time elapsed: 00:00:02\n"
     ]
    },
    {
     "name": "stdout",
     "output_type": "stream",
     "text": [
      "| Epoch: 28 | Train Loss: 0.371  | Accuracy Train: 86.601 |\n",
      "| Epoch: 28 | Validation Loss: 0.357  | Accuracy Validation: 87.342 |\n"
     ]
    },
    {
     "name": "stderr",
     "output_type": "stream",
     "text": [
      "0% [██████████████████████████████] 100% | ETA: 00:00:00\n",
      "Total time elapsed: 00:00:33\n",
      "0% [██████████████████████████████] 100% | ETA: 00:00:00\n",
      "Total time elapsed: 00:00:02\n"
     ]
    },
    {
     "name": "stdout",
     "output_type": "stream",
     "text": [
      "| Epoch: 29 | Train Loss: 0.370  | Accuracy Train: 86.697 |\n",
      "| Epoch: 29 | Validation Loss: 0.365  | Accuracy Validation: 87.264 |\n"
     ]
    },
    {
     "name": "stderr",
     "output_type": "stream",
     "text": [
      "0% [██████████████████████████████] 100% | ETA: 00:00:00\n",
      "Total time elapsed: 00:00:31\n",
      "0% [██████████████████████████████] 100% | ETA: 00:00:00\n",
      "Total time elapsed: 00:00:01\n"
     ]
    },
    {
     "name": "stdout",
     "output_type": "stream",
     "text": [
      "| Epoch: 30 | Train Loss: 0.368  | Accuracy Train: 86.734 |\n",
      "| Epoch: 30 | Validation Loss: 0.353  | Accuracy Validation: 87.618 |\n"
     ]
    },
    {
     "name": "stderr",
     "output_type": "stream",
     "text": [
      "0% [██████████████████████████████] 100% | ETA: 00:00:00\n",
      "Total time elapsed: 00:00:31\n",
      "0% [██████████████████████████████] 100% | ETA: 00:00:00\n",
      "Total time elapsed: 00:00:01\n"
     ]
    },
    {
     "name": "stdout",
     "output_type": "stream",
     "text": [
      "| Epoch: 31 | Train Loss: 0.366  | Accuracy Train: 86.756 |\n",
      "| Epoch: 31 | Validation Loss: 0.356  | Accuracy Validation: 87.264 |\n"
     ]
    },
    {
     "name": "stderr",
     "output_type": "stream",
     "text": [
      "0% [██████████████████████████████] 100% | ETA: 00:00:00\n",
      "Total time elapsed: 00:00:31\n",
      "0% [██████████████████████████████] 100% | ETA: 00:00:00\n",
      "Total time elapsed: 00:00:01\n"
     ]
    },
    {
     "name": "stdout",
     "output_type": "stream",
     "text": [
      "| Epoch: 32 | Train Loss: 0.362  | Accuracy Train: 86.923 |\n",
      "| Epoch: 32 | Validation Loss: 0.358  | Accuracy Validation: 87.172 |\n"
     ]
    },
    {
     "name": "stderr",
     "output_type": "stream",
     "text": [
      "0% [██████████████████████████████] 100% | ETA: 00:00:00\n",
      "Total time elapsed: 00:00:31\n",
      "0% [██████████████████████████████] 100% | ETA: 00:00:00\n",
      "Total time elapsed: 00:00:01\n"
     ]
    },
    {
     "name": "stdout",
     "output_type": "stream",
     "text": [
      "| Epoch: 33 | Train Loss: 0.361  | Accuracy Train: 86.944 |\n",
      "| Epoch: 33 | Validation Loss: 0.353  | Accuracy Validation: 87.789 |\n"
     ]
    },
    {
     "name": "stderr",
     "output_type": "stream",
     "text": [
      "0% [██████████████████████████████] 100% | ETA: 00:00:00\n",
      "Total time elapsed: 00:00:33\n",
      "0% [██████████████████████████████] 100% | ETA: 00:00:00\n",
      "Total time elapsed: 00:00:02\n"
     ]
    },
    {
     "name": "stdout",
     "output_type": "stream",
     "text": [
      "| Epoch: 34 | Train Loss: 0.359  | Accuracy Train: 86.978 |\n",
      "| Epoch: 34 | Validation Loss: 0.348  | Accuracy Validation: 87.815 |\n"
     ]
    },
    {
     "name": "stderr",
     "output_type": "stream",
     "text": [
      "0% [██████████████████████████████] 100% | ETA: 00:00:00\n",
      "Total time elapsed: 00:00:32\n",
      "0% [██████████████████████████████] 100% | ETA: 00:00:00\n",
      "Total time elapsed: 00:00:02\n"
     ]
    },
    {
     "name": "stdout",
     "output_type": "stream",
     "text": [
      "| Epoch: 35 | Train Loss: 0.358  | Accuracy Train: 87.070 |\n",
      "| Epoch: 35 | Validation Loss: 0.349  | Accuracy Validation: 87.855 |\n"
     ]
    },
    {
     "name": "stderr",
     "output_type": "stream",
     "text": [
      "0% [██████████████████████████████] 100% | ETA: 00:00:00\n",
      "Total time elapsed: 00:00:33\n",
      "0% [██████████████████████████████] 100% | ETA: 00:00:00\n",
      "Total time elapsed: 00:00:02\n"
     ]
    },
    {
     "name": "stdout",
     "output_type": "stream",
     "text": [
      "| Epoch: 36 | Train Loss: 0.357  | Accuracy Train: 87.086 |\n",
      "| Epoch: 36 | Validation Loss: 0.350  | Accuracy Validation: 87.553 |\n"
     ]
    },
    {
     "name": "stderr",
     "output_type": "stream",
     "text": [
      "0% [██████████████████████████████] 100% | ETA: 00:00:00\n",
      "Total time elapsed: 00:00:32\n",
      "0% [██████████████████████████████] 100% | ETA: 00:00:00\n",
      "Total time elapsed: 00:00:02\n"
     ]
    },
    {
     "name": "stdout",
     "output_type": "stream",
     "text": [
      "| Epoch: 37 | Train Loss: 0.355  | Accuracy Train: 87.215 |\n",
      "| Epoch: 37 | Validation Loss: 0.348  | Accuracy Validation: 87.631 |\n"
     ]
    },
    {
     "name": "stderr",
     "output_type": "stream",
     "text": [
      "0% [██████████████████████████████] 100% | ETA: 00:00:00\n",
      "Total time elapsed: 00:00:33\n",
      "0% [██████████████████████████████] 100% | ETA: 00:00:00\n",
      "Total time elapsed: 00:00:02\n"
     ]
    },
    {
     "name": "stdout",
     "output_type": "stream",
     "text": [
      "| Epoch: 38 | Train Loss: 0.352  | Accuracy Train: 87.234 |\n",
      "| Epoch: 38 | Validation Loss: 0.345  | Accuracy Validation: 87.946 |\n"
     ]
    },
    {
     "name": "stderr",
     "output_type": "stream",
     "text": [
      "0% [██████████████████████████████] 100% | ETA: 00:00:00\n",
      "Total time elapsed: 00:00:32\n",
      "0% [██████████████████████████████] 100% | ETA: 00:00:00\n",
      "Total time elapsed: 00:00:02\n"
     ]
    },
    {
     "name": "stdout",
     "output_type": "stream",
     "text": [
      "| Epoch: 39 | Train Loss: 0.351  | Accuracy Train: 87.338 |\n",
      "| Epoch: 39 | Validation Loss: 0.342  | Accuracy Validation: 87.894 |\n"
     ]
    },
    {
     "name": "stderr",
     "output_type": "stream",
     "text": [
      "0% [██████████████████████████████] 100% | ETA: 00:00:00\n",
      "Total time elapsed: 00:00:32\n",
      "0% [██████████████████████████████] 100% | ETA: 00:00:00\n",
      "Total time elapsed: 00:00:02\n"
     ]
    },
    {
     "name": "stdout",
     "output_type": "stream",
     "text": [
      "| Epoch: 40 | Train Loss: 0.350  | Accuracy Train: 87.407 |\n",
      "| Epoch: 40 | Validation Loss: 0.342  | Accuracy Validation: 87.960 |\n"
     ]
    }
   ],
   "source": [
    "N_EPOCHS = 40\n",
    "train_loss_list = []\n",
    "valid_loss_list = []\n",
    "\n",
    "\n",
    "\n",
    "for epoch in range(N_EPOCHS):\n",
    "\n",
    "    train_loss,train_acc= train(model, traindl, optimizer, criterion)\n",
    "    valid_loss, valid_acc = eval(model,  testdl, criterion)\n",
    "    train_loss_list.append(train_loss)\n",
    "    valid_loss_list.append(valid_loss)\n",
    "    print (f'| Epoch: {epoch+1:02} | Train Loss: {train_loss:.3f}  | Accuracy Train: {train_acc:.3f} |')\n",
    "    print (f'| Epoch: {epoch+1:02} | Validation Loss: {valid_loss:.3f}  | Accuracy Validation: {valid_acc:.3f} |')"
   ]
  },
  {
   "cell_type": "code",
   "execution_count": 11,
   "metadata": {},
   "outputs": [
    {
     "data": {
      "image/png": "[encoded data removed]",
      "text/plain": [
       "<Figure size 432x288 with 1 Axes>"
      ]
     },
     "metadata": {
      "needs_background": "light"
     },
     "output_type": "display_data"
    }
   ],
   "source": [
    "\n",
    "plotting(train_loss_list,valid_loss_list)"
   ]
  },
  {
   "cell_type": "markdown",
   "metadata": {},
   "source": []
  },
  {
   "cell_type": "code",
   "execution_count": null,
   "metadata": {},
   "outputs": [],
   "source": []
  }
 ],
 "metadata": {
  "kernelspec": {
   "display_name": "Python 3",
   "language": "python",
   "name": "python3"
  },
  "language_info": {
   "codemirror_mode": {
    "name": "ipython",
    "version": 3
   },
   "file_extension": ".py",
   "mimetype": "text/x-python",
   "name": "python",
   "nbconvert_exporter": "python",
   "pygments_lexer": "ipython3",
   "version": "3.7.3"
  }
 },
 "nbformat": 4,
 "nbformat_minor": 2
}
