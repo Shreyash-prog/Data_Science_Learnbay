{
 "cells": [
  {
   "cell_type": "markdown",
   "metadata": {},
   "source": [
    "#### Objective : \n",
    "    1. To define metrics to identify disengaged customers.Which will also include customer churned in that period\n",
    "    2. Create a ML model to predict customers already churned \n",
    "    3. Defining a stratergy to target customers as soon as we identify them\n",
    "#### Methodology :\n",
    "    We will define the disengaged customers based on three metrics\n",
    "        i. Customer who don't have single transaction in last 4 months \n",
    "        ii.Customers whose number of transaction are decreasing very month for continuously for 3 months\n",
    "        iii.Customers whose transaction amount are decreasing very month for continuously for 3 months\n",
    "    All the customers which qualify for any above metrics is considered as Disenageged customer\n",
    "    It will be a imbalanced class problem so we need to deal with that also if we don't get a good model in first scenarios\n",
    "    Also trying to understand which variables should be used as feature importance\n",
    "    We will also play around with probability cutoffs to increase the recall by compromising on precision. As we want to      capture all the Users we will want a model which will have maximum recall. As cost of loosing a customer is always higher than sending coupons or cashback offers\n",
    "#### Suggesting Next Steps : As all ideas can't be tried in limited time\n",
    "#### Suggesting Required : Suggesting what would be deployment strategy for the model\n",
    "#### Suggesting Steps to target about to churn customer with some stratergy"
   ]
  },
  {
   "cell_type": "code",
   "execution_count": 1,
   "metadata": {},
   "outputs": [],
   "source": [
    "### Import all the required packages to be used for furthar analysis\n",
    "import pandas as pd\n",
    "import os\n",
    "import numpy as np\n",
    "import sklearn\n",
    "import matplotlib.pyplot as plt\n",
    "from IPython.display import display"
   ]
  },
  {
   "cell_type": "code",
   "execution_count": 2,
   "metadata": {},
   "outputs": [
    {
     "data": {
      "text/plain": [
       "'C:\\\\Users\\\\ash\\\\Desktop\\\\data_revolut'"
      ]
     },
     "execution_count": 2,
     "metadata": {},
     "output_type": "execute_result"
    }
   ],
   "source": [
    "### Change the locations for current working directory\n",
    "os.getcwd()"
   ]
  },
  {
   "cell_type": "code",
   "execution_count": 3,
   "metadata": {},
   "outputs": [],
   "source": [
    "### Read the file required and parse the datetime in the right format to be used further\n",
    "mydateparser = lambda x: pd.datetime.strptime(x, \"%Y-%m-%d %H:%M:%S.%f\")\n",
    "trans = pd.read_csv('C:\\\\Users\\\\ash\\\\Desktop\\\\data_revolut\\\\data\\\\rev-transactions.csv', parse_dates=['created_date'], date_parser=mydateparser)"
   ]
  },
  {
   "cell_type": "code",
   "execution_count": 4,
   "metadata": {},
   "outputs": [
    {
     "name": "stdout",
     "output_type": "stream",
     "text": [
      "The shape of data is as follows : (2740075, 12)\n",
      "<class 'pandas.core.frame.DataFrame'>\n",
      "RangeIndex: 2740075 entries, 0 to 2740074\n",
      "Data columns (total 12 columns):\n",
      "transaction_id           object\n",
      "transactions_type        object\n",
      "transactions_currency    object\n",
      "amount_usd               float64\n",
      "transactions_state       object\n",
      "ea_cardholderpresence    object\n",
      "ea_merchant_mcc          float64\n",
      "ea_merchant_city         object\n",
      "ea_merchant_country      object\n",
      "direction                object\n",
      "user_id                  object\n",
      "created_date             datetime64[ns]\n",
      "dtypes: datetime64[ns](1), float64(2), object(9)\n",
      "memory usage: 250.9+ MB\n",
      "Give the information on the data required : None\n",
      "Describe the data :          amount_usd  ea_merchant_mcc\n",
      "count  2.740075e+06     1.581417e+06\n",
      "mean   1.703225e+05     5.699736e+03\n",
      "std    9.634014e+07     9.493660e+02\n",
      "min    0.000000e+00     7.420000e+02\n",
      "25%    2.030000e+00     5.411000e+03\n",
      "50%    8.510000e+00     5.812000e+03\n",
      "75%    2.822000e+01     5.921000e+03\n",
      "max    8.510645e+10     9.406000e+03\n",
      "Describe the data :             transaction_id transactions_type transactions_currency  \\\n",
      "count              2740075           2740075               2740075   \n",
      "unique             2740075                10                    35   \n",
      "top     transaction_654231      CARD_PAYMENT                   EUR   \n",
      "freq                     1           1475780               1160135   \n",
      "\n",
      "       transactions_state ea_cardholderpresence ea_merchant_city  \\\n",
      "count             2740075               1569481          1581281   \n",
      "unique                  6                     3            63253   \n",
      "top             COMPLETED                 FALSE           London   \n",
      "freq              2407968               1275460            92745   \n",
      "\n",
      "       ea_merchant_country direction     user_id  \n",
      "count              1581096   2740075     2740075  \n",
      "unique                 198         2       18766  \n",
      "top                    GBR  OUTBOUND  user_12657  \n",
      "freq                455924   2209795        5285  \n"
     ]
    }
   ],
   "source": [
    "### Print the statistics about the data read\n",
    "print (\"The shape of data is as follows :\", trans.shape)\n",
    "print (\"Give the information on the data required :\",trans.info())\n",
    "print (\"Describe the data :\", trans.describe())\n",
    "print (\"Describe the data :\",trans.describe(include ='object'))"
   ]
  },
  {
   "cell_type": "code",
   "execution_count": 5,
   "metadata": {},
   "outputs": [],
   "source": [
    "#### Extract the time related variables for datetime. Extract month, year and other variables to be summarized\n",
    "trans['year'] = pd.DatetimeIndex(trans['created_date']).year\n",
    "trans['quarter'] = pd.DatetimeIndex(trans['created_date']).quarter\n",
    "trans['month'] = pd.DatetimeIndex(trans['created_date']).month\n",
    "trans['year_quarter'] = trans['year'].astype(str) +  trans['quarter'].astype(str)\n",
    "trans['month_year'] = trans['year'].astype(str) +  trans['month'].astype(str)"
   ]
  },
  {
   "cell_type": "code",
   "execution_count": 6,
   "metadata": {},
   "outputs": [
    {
     "data": {
      "text/html": [
       "<div>\n",
       "<style scoped>\n",
       "    .dataframe tbody tr th:only-of-type {\n",
       "        vertical-align: middle;\n",
       "    }\n",
       "\n",
       "    .dataframe tbody tr th {\n",
       "        vertical-align: top;\n",
       "    }\n",
       "\n",
       "    .dataframe thead th {\n",
       "        text-align: right;\n",
       "    }\n",
       "</style>\n",
       "<table border=\"1\" class=\"dataframe\">\n",
       "  <thead>\n",
       "    <tr style=\"text-align: right;\">\n",
       "      <th></th>\n",
       "      <th>transaction_id</th>\n",
       "      <th>transactions_type</th>\n",
       "      <th>transactions_currency</th>\n",
       "      <th>amount_usd</th>\n",
       "      <th>transactions_state</th>\n",
       "      <th>ea_cardholderpresence</th>\n",
       "      <th>ea_merchant_mcc</th>\n",
       "      <th>ea_merchant_city</th>\n",
       "      <th>ea_merchant_country</th>\n",
       "      <th>direction</th>\n",
       "      <th>user_id</th>\n",
       "      <th>created_date</th>\n",
       "      <th>year</th>\n",
       "      <th>quarter</th>\n",
       "      <th>month</th>\n",
       "      <th>year_quarter</th>\n",
       "      <th>month_year</th>\n",
       "    </tr>\n",
       "  </thead>\n",
       "  <tbody>\n",
       "    <tr>\n",
       "      <th>0</th>\n",
       "      <td>transaction_0</td>\n",
       "      <td>TRANSFER</td>\n",
       "      <td>AED</td>\n",
       "      <td>4.55</td>\n",
       "      <td>COMPLETED</td>\n",
       "      <td>NaN</td>\n",
       "      <td>NaN</td>\n",
       "      <td>NaN</td>\n",
       "      <td>NaN</td>\n",
       "      <td>OUTBOUND</td>\n",
       "      <td>user_898</td>\n",
       "      <td>2018-04-03 03:34:21.784487</td>\n",
       "      <td>2018</td>\n",
       "      <td>2</td>\n",
       "      <td>4</td>\n",
       "      <td>20182</td>\n",
       "      <td>20184</td>\n",
       "    </tr>\n",
       "    <tr>\n",
       "      <th>1</th>\n",
       "      <td>transaction_1</td>\n",
       "      <td>CARD_PAYMENT</td>\n",
       "      <td>AED</td>\n",
       "      <td>15.50</td>\n",
       "      <td>COMPLETED</td>\n",
       "      <td>FALSE</td>\n",
       "      <td>4111.0</td>\n",
       "      <td>Dubai</td>\n",
       "      <td>ARE</td>\n",
       "      <td>OUTBOUND</td>\n",
       "      <td>user_1652</td>\n",
       "      <td>2019-03-19 06:15:59.537032</td>\n",
       "      <td>2019</td>\n",
       "      <td>1</td>\n",
       "      <td>3</td>\n",
       "      <td>20191</td>\n",
       "      <td>20193</td>\n",
       "    </tr>\n",
       "    <tr>\n",
       "      <th>2</th>\n",
       "      <td>transaction_2</td>\n",
       "      <td>CARD_PAYMENT</td>\n",
       "      <td>AED</td>\n",
       "      <td>43.40</td>\n",
       "      <td>COMPLETED</td>\n",
       "      <td>FALSE</td>\n",
       "      <td>5814.0</td>\n",
       "      <td>Dubai</td>\n",
       "      <td>ARE</td>\n",
       "      <td>OUTBOUND</td>\n",
       "      <td>user_1652</td>\n",
       "      <td>2019-03-18 18:53:41.323032</td>\n",
       "      <td>2019</td>\n",
       "      <td>1</td>\n",
       "      <td>3</td>\n",
       "      <td>20191</td>\n",
       "      <td>20193</td>\n",
       "    </tr>\n",
       "    <tr>\n",
       "      <th>3</th>\n",
       "      <td>transaction_3</td>\n",
       "      <td>TRANSFER</td>\n",
       "      <td>AED</td>\n",
       "      <td>10043.01</td>\n",
       "      <td>COMPLETED</td>\n",
       "      <td>NaN</td>\n",
       "      <td>NaN</td>\n",
       "      <td>NaN</td>\n",
       "      <td>NaN</td>\n",
       "      <td>OUTBOUND</td>\n",
       "      <td>user_1652</td>\n",
       "      <td>2019-03-22 14:20:01.513032</td>\n",
       "      <td>2019</td>\n",
       "      <td>1</td>\n",
       "      <td>3</td>\n",
       "      <td>20191</td>\n",
       "      <td>20193</td>\n",
       "    </tr>\n",
       "    <tr>\n",
       "      <th>4</th>\n",
       "      <td>transaction_4</td>\n",
       "      <td>CARD_PAYMENT</td>\n",
       "      <td>AED</td>\n",
       "      <td>43.81</td>\n",
       "      <td>COMPLETED</td>\n",
       "      <td>FALSE</td>\n",
       "      <td>5651.0</td>\n",
       "      <td>Abu Dhabi</td>\n",
       "      <td>ARE</td>\n",
       "      <td>OUTBOUND</td>\n",
       "      <td>user_5509</td>\n",
       "      <td>2019-03-22 05:42:50.316652</td>\n",
       "      <td>2019</td>\n",
       "      <td>1</td>\n",
       "      <td>3</td>\n",
       "      <td>20191</td>\n",
       "      <td>20193</td>\n",
       "    </tr>\n",
       "  </tbody>\n",
       "</table>\n",
       "</div>"
      ],
      "text/plain": [
       "  transaction_id transactions_type transactions_currency  amount_usd  \\\n",
       "0  transaction_0          TRANSFER                   AED        4.55   \n",
       "1  transaction_1      CARD_PAYMENT                   AED       15.50   \n",
       "2  transaction_2      CARD_PAYMENT                   AED       43.40   \n",
       "3  transaction_3          TRANSFER                   AED    10043.01   \n",
       "4  transaction_4      CARD_PAYMENT                   AED       43.81   \n",
       "\n",
       "  transactions_state ea_cardholderpresence  ea_merchant_mcc ea_merchant_city  \\\n",
       "0          COMPLETED                   NaN              NaN              NaN   \n",
       "1          COMPLETED                 FALSE           4111.0            Dubai   \n",
       "2          COMPLETED                 FALSE           5814.0            Dubai   \n",
       "3          COMPLETED                   NaN              NaN              NaN   \n",
       "4          COMPLETED                 FALSE           5651.0        Abu Dhabi   \n",
       "\n",
       "  ea_merchant_country direction    user_id               created_date  year  \\\n",
       "0                 NaN  OUTBOUND   user_898 2018-04-03 03:34:21.784487  2018   \n",
       "1                 ARE  OUTBOUND  user_1652 2019-03-19 06:15:59.537032  2019   \n",
       "2                 ARE  OUTBOUND  user_1652 2019-03-18 18:53:41.323032  2019   \n",
       "3                 NaN  OUTBOUND  user_1652 2019-03-22 14:20:01.513032  2019   \n",
       "4                 ARE  OUTBOUND  user_5509 2019-03-22 05:42:50.316652  2019   \n",
       "\n",
       "   quarter  month year_quarter month_year  \n",
       "0        2      4        20182      20184  \n",
       "1        1      3        20191      20193  \n",
       "2        1      3        20191      20193  \n",
       "3        1      3        20191      20193  \n",
       "4        1      3        20191      20193  "
      ]
     },
     "execution_count": 6,
     "metadata": {},
     "output_type": "execute_result"
    }
   ],
   "source": [
    "trans.head(5)"
   ]
  },
  {
   "cell_type": "markdown",
   "metadata": {},
   "source": [
    "#### Lets only consider transaction which have following transactions so that we exclude incompleted transactions"
   ]
  },
  {
   "cell_type": "code",
   "execution_count": 7,
   "metadata": {},
   "outputs": [
    {
     "name": "stdout",
     "output_type": "stream",
     "text": [
      "Transactions with all transaction irrespective of transaction state (2740075, 17)\n",
      "Transactions with only transaction state (2407968, 17)\n"
     ]
    }
   ],
   "source": [
    "print (\"Transactions with all transaction irrespective of transaction state\",trans.shape)\n",
    "trans_comp = trans[trans['transactions_state'] == 'COMPLETED']\n",
    "print (\"Transactions with only transaction state\",trans_comp.shape)"
   ]
  },
  {
   "cell_type": "code",
   "execution_count": 8,
   "metadata": {},
   "outputs": [
    {
     "data": {
      "text/plain": [
       "CARD_PAYMENT    1257461\n",
       "TRANSFER         493168\n",
       "TOPUP            303750\n",
       "EXCHANGE         159146\n",
       "ATM               77824\n",
       "CASHBACK          76713\n",
       "FEE               23659\n",
       "CARD_REFUND       11960\n",
       "TAX                2794\n",
       "REFUND             1493\n",
       "Name: transactions_type, dtype: int64"
      ]
     },
     "execution_count": 8,
     "metadata": {},
     "output_type": "execute_result"
    }
   ],
   "source": [
    "### Look at the distribution of transactions type after filtering out transactions state is completed\n",
    "trans_comp['transactions_type'].value_counts()"
   ]
  },
  {
   "cell_type": "markdown",
   "metadata": {},
   "source": [
    "### Lets Only consider the transactions which have customer did intentionally so we will remove folllwing transactions type\n",
    "1. FEE\n",
    "2. CARD_REFUND\n",
    "3. TAX\n",
    "4. REFUND"
   ]
  },
  {
   "cell_type": "code",
   "execution_count": 9,
   "metadata": {},
   "outputs": [
    {
     "name": "stdout",
     "output_type": "stream",
     "text": [
      "Shape of transaction data after filetring is : (2368062, 17)\n"
     ]
    }
   ],
   "source": [
    "trans_analysis= trans_comp[~trans_comp['transactions_type'].isin(['FEE','CARD_REFUND','TAX','REFUND'])]\n",
    "print (\"Shape of transaction data after filetring is :\",trans_analysis.shape)"
   ]
  },
  {
   "cell_type": "markdown",
   "metadata": {},
   "source": [
    "### Lets summarize the data by transaction month by user id\n",
    "### To create following varables at month level\n",
    "##### 1. Sum of USD Transactions Amount\n",
    "##### 2. Number of Transactions in a Month\n",
    "##### 3. Number of distinct cities where transactions was done\n",
    "##### 4. Number of ditinct merchants on which transactions is done\n",
    "##### 5. Number of distinct  types of transactions"
   ]
  },
  {
   "cell_type": "code",
   "execution_count": 10,
   "metadata": {},
   "outputs": [],
   "source": [
    "##Step 1: Group by User Id and Months as we will be used in Further analysis. \n",
    "### If we had time we will also want to add variables summary at quarter level\n",
    "groupby1 = trans_analysis.groupby(['user_id','month_year'])\n",
    "\n",
    "##Step 2: Calculate different aggregations to create variables defined above\n",
    "trans_count = groupby1['transaction_id'].count()\n",
    "amt_sum = groupby1['amount_usd'].sum()\n",
    "dist_currency = groupby1['transactions_currency'].nunique()\n",
    "dist_city = groupby1['ea_merchant_city'].nunique()\n",
    "dist_country = groupby1['ea_merchant_country'].nunique()\n",
    "dist_trans =  groupby1['transactions_type'].nunique()\n",
    "\n",
    "\n",
    "##Step 3: Combine into a single DataFrame\n",
    "trans_sum = pd.DataFrame({'trans_count':trans_count,'amt_sum':amt_sum,'dist_currency':dist_currency,'dist_city':dist_city,\n",
    "                          'dist_country':dist_country,'dist_trans':dist_trans}).reset_index()"
   ]
  },
  {
   "cell_type": "code",
   "execution_count": 11,
   "metadata": {},
   "outputs": [],
   "source": [
    "### Group by always creates dataframes by hierarchical Index and columns names\n",
    "### In below steps we will change them to the normal dataframes with non-hierarchical index\n",
    "trans1 = trans_sum.set_index(['user_id', 'month_year'])\n",
    "trans2 = trans1.unstack(level =1)"
   ]
  },
  {
   "cell_type": "code",
   "execution_count": 12,
   "metadata": {},
   "outputs": [
    {
     "name": "stdout",
     "output_type": "stream",
     "text": [
      "The number of columns post aggreagtion is : 102\n"
     ]
    }
   ],
   "source": [
    "### Join the levels to create alist of columns names in list and assign it to columm names\n",
    "new_cols = [''.join(t) for t in trans2.columns]\n",
    "print (\"The number of columns post aggreagtion is :\",len(new_cols))\n",
    "trans2.columns = new_cols\n",
    "trans2 =trans2.reset_index()"
   ]
  },
  {
   "cell_type": "code",
   "execution_count": 13,
   "metadata": {},
   "outputs": [
    {
     "name": "stdout",
     "output_type": "stream",
     "text": [
      "Have alook at the data and check if its aligned with expectation i.e. Non Hierachical index\n"
     ]
    },
    {
     "data": {
      "text/html": [
       "<div>\n",
       "<style scoped>\n",
       "    .dataframe tbody tr th:only-of-type {\n",
       "        vertical-align: middle;\n",
       "    }\n",
       "\n",
       "    .dataframe tbody tr th {\n",
       "        vertical-align: top;\n",
       "    }\n",
       "\n",
       "    .dataframe thead th {\n",
       "        text-align: right;\n",
       "    }\n",
       "</style>\n",
       "<table border=\"1\" class=\"dataframe\">\n",
       "  <thead>\n",
       "    <tr style=\"text-align: right;\">\n",
       "      <th></th>\n",
       "      <th>user_id</th>\n",
       "      <th>trans_count20181</th>\n",
       "      <th>trans_count201810</th>\n",
       "      <th>trans_count201811</th>\n",
       "      <th>trans_count201812</th>\n",
       "      <th>trans_count20182</th>\n",
       "      <th>trans_count20183</th>\n",
       "      <th>trans_count20184</th>\n",
       "      <th>trans_count20185</th>\n",
       "      <th>trans_count20186</th>\n",
       "      <th>...</th>\n",
       "      <th>dist_trans20185</th>\n",
       "      <th>dist_trans20186</th>\n",
       "      <th>dist_trans20187</th>\n",
       "      <th>dist_trans20188</th>\n",
       "      <th>dist_trans20189</th>\n",
       "      <th>dist_trans20191</th>\n",
       "      <th>dist_trans20192</th>\n",
       "      <th>dist_trans20193</th>\n",
       "      <th>dist_trans20194</th>\n",
       "      <th>dist_trans20195</th>\n",
       "    </tr>\n",
       "  </thead>\n",
       "  <tbody>\n",
       "    <tr>\n",
       "      <th>0</th>\n",
       "      <td>user_0</td>\n",
       "      <td>14.0</td>\n",
       "      <td>23.0</td>\n",
       "      <td>10.0</td>\n",
       "      <td>9.0</td>\n",
       "      <td>13.0</td>\n",
       "      <td>41.0</td>\n",
       "      <td>12.0</td>\n",
       "      <td>18.0</td>\n",
       "      <td>26.0</td>\n",
       "      <td>...</td>\n",
       "      <td>3.0</td>\n",
       "      <td>4.0</td>\n",
       "      <td>4.0</td>\n",
       "      <td>4.0</td>\n",
       "      <td>4.0</td>\n",
       "      <td>2.0</td>\n",
       "      <td>4.0</td>\n",
       "      <td>4.0</td>\n",
       "      <td>5.0</td>\n",
       "      <td>2.0</td>\n",
       "    </tr>\n",
       "    <tr>\n",
       "      <th>1</th>\n",
       "      <td>user_1</td>\n",
       "      <td>1.0</td>\n",
       "      <td>NaN</td>\n",
       "      <td>9.0</td>\n",
       "      <td>8.0</td>\n",
       "      <td>NaN</td>\n",
       "      <td>9.0</td>\n",
       "      <td>29.0</td>\n",
       "      <td>7.0</td>\n",
       "      <td>14.0</td>\n",
       "      <td>...</td>\n",
       "      <td>3.0</td>\n",
       "      <td>3.0</td>\n",
       "      <td>3.0</td>\n",
       "      <td>3.0</td>\n",
       "      <td>2.0</td>\n",
       "      <td>2.0</td>\n",
       "      <td>3.0</td>\n",
       "      <td>NaN</td>\n",
       "      <td>NaN</td>\n",
       "      <td>NaN</td>\n",
       "    </tr>\n",
       "    <tr>\n",
       "      <th>2</th>\n",
       "      <td>user_10</td>\n",
       "      <td>22.0</td>\n",
       "      <td>90.0</td>\n",
       "      <td>65.0</td>\n",
       "      <td>69.0</td>\n",
       "      <td>45.0</td>\n",
       "      <td>35.0</td>\n",
       "      <td>43.0</td>\n",
       "      <td>38.0</td>\n",
       "      <td>42.0</td>\n",
       "      <td>...</td>\n",
       "      <td>4.0</td>\n",
       "      <td>4.0</td>\n",
       "      <td>4.0</td>\n",
       "      <td>4.0</td>\n",
       "      <td>3.0</td>\n",
       "      <td>4.0</td>\n",
       "      <td>2.0</td>\n",
       "      <td>4.0</td>\n",
       "      <td>4.0</td>\n",
       "      <td>3.0</td>\n",
       "    </tr>\n",
       "    <tr>\n",
       "      <th>3</th>\n",
       "      <td>user_100</td>\n",
       "      <td>1.0</td>\n",
       "      <td>4.0</td>\n",
       "      <td>NaN</td>\n",
       "      <td>NaN</td>\n",
       "      <td>5.0</td>\n",
       "      <td>7.0</td>\n",
       "      <td>6.0</td>\n",
       "      <td>NaN</td>\n",
       "      <td>NaN</td>\n",
       "      <td>...</td>\n",
       "      <td>NaN</td>\n",
       "      <td>NaN</td>\n",
       "      <td>2.0</td>\n",
       "      <td>2.0</td>\n",
       "      <td>2.0</td>\n",
       "      <td>2.0</td>\n",
       "      <td>3.0</td>\n",
       "      <td>3.0</td>\n",
       "      <td>3.0</td>\n",
       "      <td>2.0</td>\n",
       "    </tr>\n",
       "  </tbody>\n",
       "</table>\n",
       "<p>4 rows × 103 columns</p>\n",
       "</div>"
      ],
      "text/plain": [
       "    user_id  trans_count20181  trans_count201810  trans_count201811  \\\n",
       "0    user_0              14.0               23.0               10.0   \n",
       "1    user_1               1.0                NaN                9.0   \n",
       "2   user_10              22.0               90.0               65.0   \n",
       "3  user_100               1.0                4.0                NaN   \n",
       "\n",
       "   trans_count201812  trans_count20182  trans_count20183  trans_count20184  \\\n",
       "0                9.0              13.0              41.0              12.0   \n",
       "1                8.0               NaN               9.0              29.0   \n",
       "2               69.0              45.0              35.0              43.0   \n",
       "3                NaN               5.0               7.0               6.0   \n",
       "\n",
       "   trans_count20185  trans_count20186  ...  dist_trans20185  dist_trans20186  \\\n",
       "0              18.0              26.0  ...              3.0              4.0   \n",
       "1               7.0              14.0  ...              3.0              3.0   \n",
       "2              38.0              42.0  ...              4.0              4.0   \n",
       "3               NaN               NaN  ...              NaN              NaN   \n",
       "\n",
       "   dist_trans20187  dist_trans20188  dist_trans20189  dist_trans20191  \\\n",
       "0              4.0              4.0              4.0              2.0   \n",
       "1              3.0              3.0              2.0              2.0   \n",
       "2              4.0              4.0              3.0              4.0   \n",
       "3              2.0              2.0              2.0              2.0   \n",
       "\n",
       "   dist_trans20192  dist_trans20193  dist_trans20194  dist_trans20195  \n",
       "0              4.0              4.0              5.0              2.0  \n",
       "1              3.0              NaN              NaN              NaN  \n",
       "2              2.0              4.0              4.0              3.0  \n",
       "3              3.0              3.0              3.0              2.0  \n",
       "\n",
       "[4 rows x 103 columns]"
      ]
     },
     "execution_count": 13,
     "metadata": {},
     "output_type": "execute_result"
    }
   ],
   "source": [
    "print (\"Have alook at the data and check if its aligned with expectation i.e. Non Hierachical index\")\n",
    "trans2.head(4)"
   ]
  },
  {
   "cell_type": "markdown",
   "metadata": {},
   "source": [
    "#### In this data missing values means that they have no trasaction in that month. Replace it with zeroes"
   ]
  },
  {
   "cell_type": "code",
   "execution_count": 14,
   "metadata": {},
   "outputs": [],
   "source": [
    "trans2 = trans2.fillna(0)"
   ]
  },
  {
   "cell_type": "markdown",
   "metadata": {},
   "source": [
    "#### Customer at risk or disnegaged would have transaction amount going down for 3 months continuoulsy"
   ]
  },
  {
   "cell_type": "code",
   "execution_count": 15,
   "metadata": {},
   "outputs": [
    {
     "name": "stdout",
     "output_type": "stream",
     "text": [
      "513\n"
     ]
    }
   ],
   "source": [
    "risky_avg_transaction = []\n",
    "for idx,row in trans2.iterrows():\n",
    "    if  (row['amt_sum20191'] > row['amt_sum20192']) & (row['amt_sum20192'] > row['amt_sum20193']) & (row['amt_sum20193'] > row['amt_sum20194']):\n",
    "        risky_avg_transaction.append(idx)\n",
    "        \n",
    "print (len(risky_avg_transaction))\n",
    "\n",
    "trans2['risky_by_avg_tran'] = np.where(trans2.index.isin(risky_avg_transaction),1,0)\n"
   ]
  },
  {
   "cell_type": "markdown",
   "metadata": {},
   "source": [
    "#### Customer at risk flag or disnegaged for customers whose transaction count is going down month by month for 201902 to 201904"
   ]
  },
  {
   "cell_type": "code",
   "execution_count": 16,
   "metadata": {},
   "outputs": [
    {
     "name": "stdout",
     "output_type": "stream",
     "text": [
      "397\n"
     ]
    }
   ],
   "source": [
    "risky_count_transaction = []\n",
    "for idx,row in trans2.iterrows():\n",
    "    if  (row['trans_count20191'] > row['trans_count20192']) & (row['trans_count20192'] > row['trans_count20193']) & (row['trans_count20193'] > row['trans_count20194']):\n",
    "        risky_count_transaction.append(idx)\n",
    "        \n",
    "print (len(risky_count_transaction))\n",
    "\n",
    "trans2['risky_by_count_tran'] = np.where(trans2.index.isin(risky_count_transaction),1,0)"
   ]
  },
  {
   "cell_type": "markdown",
   "metadata": {},
   "source": [
    "#### Customer at risk flag or disengaged for customers who have no transaction in last 3 months but are associated for longer tahn 3 months"
   ]
  },
  {
   "cell_type": "code",
   "execution_count": 17,
   "metadata": {},
   "outputs": [
    {
     "name": "stdout",
     "output_type": "stream",
     "text": [
      "816\n"
     ]
    }
   ],
   "source": [
    "risky_no_transaction = []\n",
    "for idx,row in trans2.iterrows():\n",
    "    if  (row['trans_count20191'] == 0) & (row['trans_count20192'] ==0) & (row['trans_count20193'] == 0) & (row['trans_count20194'] == 0) & (row['trans_count201812'] > 0)  :\n",
    "        risky_no_transaction.append(idx)\n",
    "        \n",
    "print (len(risky_no_transaction))\n",
    "\n",
    "trans2['risky_by_no_transaction'] = np.where(trans2.index.isin(risky_no_transaction),1,0)"
   ]
  },
  {
   "cell_type": "markdown",
   "metadata": {},
   "source": [
    "### Create target varibles for model by combining three flags created before"
   ]
  },
  {
   "cell_type": "code",
   "execution_count": 18,
   "metadata": {},
   "outputs": [
    {
     "data": {
      "text/plain": [
       "0    16937\n",
       "1     1559\n",
       "Name: target, dtype: int64"
      ]
     },
     "execution_count": 18,
     "metadata": {},
     "output_type": "execute_result"
    }
   ],
   "source": [
    "\n",
    "trans2['target'] = trans2.apply(lambda x: 1 if (x.risky_by_no_transaction==1) or (x.risky_by_count_tran==1) or (x.risky_by_avg_tran == 1)  else 0,axis=1)\n",
    "target = trans2[\"target\"].value_counts()\n",
    "target"
   ]
  },
  {
   "cell_type": "markdown",
   "metadata": {},
   "source": [
    "### Define the variable list to be used in model along with the target variables"
   ]
  },
  {
   "cell_type": "code",
   "execution_count": 19,
   "metadata": {},
   "outputs": [],
   "source": [
    "model_variables_list = [\"user_id\",\"trans_count20181\",\"trans_count201810\",\"trans_count201811\",\"trans_count201812\",\"trans_count20182\",\"trans_count20183\",\"trans_count20184\",\"trans_count20185\",\"trans_count20186\",\"trans_count20187\",\"trans_count20188\",\"trans_count20189\",\"amt_sum20181\",\"amt_sum201810\",\"amt_sum201811\",\"amt_sum201812\",\"amt_sum20182\",\"amt_sum20183\",\"amt_sum20184\",\"amt_sum20185\",\"amt_sum20186\",\"amt_sum20187\",\"amt_sum20188\",\"amt_sum20189\",\"dist_currency20181\",\"dist_currency201810\",\"dist_currency201811\",\"dist_currency201812\",\"dist_currency20182\",\"dist_currency20183\",\"dist_currency20184\",\"dist_currency20185\",\"dist_currency20186\",\"dist_currency20187\",\"dist_currency20188\",\"dist_currency20189\",\"dist_city20181\",\"dist_city201810\",\"dist_city201811\",\"dist_city201812\",\"dist_city20182\",\"dist_city20183\",\"dist_city20184\",\"dist_city20185\",\"dist_city20186\",\"dist_city20187\",\"dist_city20188\",\"dist_city20189\",\"dist_country20181\",\"dist_country201810\",\"dist_country201811\",\"dist_country201812\",\"dist_country20182\",\"dist_country20183\",\"dist_country20184\",\"dist_country20185\",\"dist_country20186\",\"dist_country20187\",\"dist_country20188\",\"dist_country20189\",\"dist_trans20181\",\"dist_trans201810\",\"dist_trans201811\",\"dist_trans201812\",\"dist_trans20182\",\"dist_trans20183\"\n",
    "                        ,\"dist_trans20184\",\"dist_trans20185\",\"dist_trans20186\",\"dist_trans20187\",\"dist_trans20188\",\"dist_trans20189\",\"target\"]\n",
    "\n",
    "model_df =trans2[model_variables_list]"
   ]
  },
  {
   "cell_type": "code",
   "execution_count": 20,
   "metadata": {},
   "outputs": [],
   "source": [
    "### Now model df has all the variables which we need for further analysis\n",
    "### Get in the demographics variables of user"
   ]
  },
  {
   "cell_type": "code",
   "execution_count": 21,
   "metadata": {},
   "outputs": [
    {
     "name": "stdout",
     "output_type": "stream",
     "text": [
      "Shape of users data is (19430, 12)\n",
      "19430\n"
     ]
    }
   ],
   "source": [
    "users_data = pd.read_csv(('C:\\\\Users\\\\ash\\\\Desktop\\\\data_revolut\\\\data\\\\rev-users.csv'))\n",
    "print (\"Shape of users data is\",users_data.shape)\n",
    "print (users_data['user_id'].nunique())"
   ]
  },
  {
   "cell_type": "code",
   "execution_count": 22,
   "metadata": {},
   "outputs": [
    {
     "name": "stdout",
     "output_type": "stream",
     "text": [
      "Shape of model data before merge is (18496, 74)\n",
      "Shape of model data after merge is  (18496, 85)\n"
     ]
    }
   ],
   "source": [
    "## As we have distinct user id it is safe to join it to users table\n",
    "print (\"Shape of model data before merge is\",model_df.shape)\n",
    "model_df = pd.merge(model_df,users_data,how = 'inner',on = 'user_id')\n",
    "print (\"Shape of model data after merge is \", model_df.shape)"
   ]
  },
  {
   "cell_type": "code",
   "execution_count": 23,
   "metadata": {},
   "outputs": [
    {
     "name": "stdout",
     "output_type": "stream",
     "text": [
      "Shape of users data is (19430, 2)\n",
      "19430\n"
     ]
    }
   ],
   "source": [
    "### Get in the device usage of users \n",
    "users_device = pd.read_csv(('C:\\\\Users\\\\ash\\\\Desktop\\\\data_revolut\\\\data\\\\rev-devices.csv'))\n",
    "print (\"Shape of users data is\",users_device.shape)\n",
    "print (users_device['user_id'].nunique())"
   ]
  },
  {
   "cell_type": "code",
   "execution_count": 24,
   "metadata": {},
   "outputs": [
    {
     "name": "stdout",
     "output_type": "stream",
     "text": [
      "Shape of model data before merge is (18496, 85)\n",
      "Shape of model data after merge is  (18496, 86)\n"
     ]
    }
   ],
   "source": [
    "## As we have distinct user id it is safe to join it to users table\n",
    "print (\"Shape of model data before merge is\",model_df.shape)\n",
    "model_df = pd.merge(model_df,users_device,how = 'inner',on = 'user_id')\n",
    "print (\"Shape of model data after merge is \", model_df.shape)"
   ]
  },
  {
   "cell_type": "code",
   "execution_count": 25,
   "metadata": {},
   "outputs": [
    {
     "data": {
      "text/plain": [
       "(18496, 82)"
      ]
     },
     "execution_count": 25,
     "metadata": {},
     "output_type": "execute_result"
    }
   ],
   "source": [
    "### Drop the variables you don't want to use right now\n",
    "### referrals as it has all zero values and country and city as they would have lots of level which we dont hae time to deal with\n",
    "drop_var = ['country','city','num_referrals','num_successful_referrals']\n",
    "model_df.drop(drop_var,inplace = True, axis = 1)\n",
    "model_df.shape"
   ]
  },
  {
   "cell_type": "code",
   "execution_count": 26,
   "metadata": {},
   "outputs": [],
   "source": [
    "### Lets do some feature engineering on other variables \n",
    "### Convert the Birth year into age groups\n",
    "bins = [0,25, 35, 50, 59,60]\n",
    "labels = ['less_25', '25-35', '35-50', '50-59', '60+']\n",
    "model_df['agerange'] = pd.cut(2020 - model_df['birth_year'], bins, labels = labels,include_lowest = True)\n",
    "model_df.drop(['birth_year'],axis = 1, inplace = True)"
   ]
  },
  {
   "cell_type": "code",
   "execution_count": 27,
   "metadata": {},
   "outputs": [],
   "source": [
    "### Lets create some features on User Create year \n",
    "### We will exlude customer which have joined after 2018 actober as we will not ahve much transaction data for them\n",
    "import datetime\n",
    "model_df['days_joined'] = (datetime.date(2018, 10, 31) - pd.DatetimeIndex(model_df['created_date']).date)\n",
    "model_df['days_joined'] = model_df['days_joined'] / np.timedelta64(1, 'D')"
   ]
  },
  {
   "cell_type": "code",
   "execution_count": 28,
   "metadata": {},
   "outputs": [],
   "source": [
    "### Exclude all the custoemr from analysis which ahve joined after october 31\n",
    "model_df = model_df[model_df['days_joined']>0]"
   ]
  },
  {
   "cell_type": "code",
   "execution_count": 29,
   "metadata": {},
   "outputs": [],
   "source": [
    "### Create variable on joining date as reqired\n",
    "bins = [0,30, 90, 180,999]\n",
    "labels = ['less_month', 'month_quarter', 'quarter_halfyear', 'more_halfyear']\n",
    "model_df['joinedrange'] = pd.cut(model_df['days_joined'], bins, labels = labels,include_lowest = True)\n",
    "model_df.drop(['days_joined','created_date'],axis = 1, inplace = True)"
   ]
  },
  {
   "cell_type": "code",
   "execution_count": 30,
   "metadata": {},
   "outputs": [
    {
     "data": {
      "text/plain": [
       "(14374, 82)"
      ]
     },
     "execution_count": 30,
     "metadata": {},
     "output_type": "execute_result"
    }
   ],
   "source": [
    "### Our data is ready for modelling\n",
    "model_df.shape"
   ]
  },
  {
   "cell_type": "markdown",
   "metadata": {},
   "source": [
    "### Convert the categorical varible to one hot dummy encoding"
   ]
  },
  {
   "cell_type": "code",
   "execution_count": 31,
   "metadata": {},
   "outputs": [],
   "source": [
    "cat_variables_list = ['plan','brand','agerange','joinedrange','attributes_notifications_marketing_push',\n",
    "'attributes_notifications_marketing_email','user_settings_crypto_unlocked']"
   ]
  },
  {
   "cell_type": "code",
   "execution_count": 32,
   "metadata": {},
   "outputs": [
    {
     "name": "stdout",
     "output_type": "stream",
     "text": [
      "Number of variable after dummy treatments is (14374, 99)\n",
      "Columns are as follow Index(['user_id', 'trans_count20181', 'trans_count201810', 'trans_count201811',\n",
      "       'trans_count201812', 'trans_count20182', 'trans_count20183',\n",
      "       'trans_count20184', 'trans_count20185', 'trans_count20186',\n",
      "       'trans_count20187', 'trans_count20188', 'trans_count20189',\n",
      "       'amt_sum20181', 'amt_sum201810', 'amt_sum201811', 'amt_sum201812',\n",
      "       'amt_sum20182', 'amt_sum20183', 'amt_sum20184', 'amt_sum20185',\n",
      "       'amt_sum20186', 'amt_sum20187', 'amt_sum20188', 'amt_sum20189',\n",
      "       'dist_currency20181', 'dist_currency201810', 'dist_currency201811',\n",
      "       'dist_currency201812', 'dist_currency20182', 'dist_currency20183',\n",
      "       'dist_currency20184', 'dist_currency20185', 'dist_currency20186',\n",
      "       'dist_currency20187', 'dist_currency20188', 'dist_currency20189',\n",
      "       'dist_city20181', 'dist_city201810', 'dist_city201811',\n",
      "       'dist_city201812', 'dist_city20182', 'dist_city20183', 'dist_city20184',\n",
      "       'dist_city20185', 'dist_city20186', 'dist_city20187', 'dist_city20188',\n",
      "       'dist_city20189', 'dist_country20181', 'dist_country201810',\n",
      "       'dist_country201811', 'dist_country201812', 'dist_country20182',\n",
      "       'dist_country20183', 'dist_country20184', 'dist_country20185',\n",
      "       'dist_country20186', 'dist_country20187', 'dist_country20188',\n",
      "       'dist_country20189', 'dist_trans20181', 'dist_trans201810',\n",
      "       'dist_trans201811', 'dist_trans201812', 'dist_trans20182',\n",
      "       'dist_trans20183', 'dist_trans20184', 'dist_trans20185',\n",
      "       'dist_trans20186', 'dist_trans20187', 'dist_trans20188',\n",
      "       'dist_trans20189', 'target', 'num_contacts', 'plan_METAL',\n",
      "       'plan_METAL_FREE', 'plan_PREMIUM', 'plan_PREMIUM_FREE',\n",
      "       'plan_PREMIUM_OFFER', 'plan_STANDARD', 'brand_Android', 'brand_Apple',\n",
      "       'brand_Unknown', 'agerange_less_25', 'agerange_25-35', 'agerange_35-50',\n",
      "       'agerange_50-59', 'agerange_60+', 'joinedrange_less_month',\n",
      "       'joinedrange_month_quarter', 'joinedrange_quarter_halfyear',\n",
      "       'joinedrange_more_halfyear',\n",
      "       'attributes_notifications_marketing_push_0.0',\n",
      "       'attributes_notifications_marketing_push_1.0',\n",
      "       'attributes_notifications_marketing_email_0.0',\n",
      "       'attributes_notifications_marketing_email_1.0',\n",
      "       'user_settings_crypto_unlocked_0', 'user_settings_crypto_unlocked_1'],\n",
      "      dtype='object')\n"
     ]
    }
   ],
   "source": [
    "model_data = pd.get_dummies(model_df,columns = cat_variables_list)\n",
    "print (\"Number of variable after dummy treatments is\",model_data.shape)\n",
    "print (\"Columns are as follow\",model_data.columns)"
   ]
  },
  {
   "cell_type": "code",
   "execution_count": 33,
   "metadata": {},
   "outputs": [
    {
     "data": {
      "text/html": [
       "<div>\n",
       "<style scoped>\n",
       "    .dataframe tbody tr th:only-of-type {\n",
       "        vertical-align: middle;\n",
       "    }\n",
       "\n",
       "    .dataframe tbody tr th {\n",
       "        vertical-align: top;\n",
       "    }\n",
       "\n",
       "    .dataframe thead th {\n",
       "        text-align: right;\n",
       "    }\n",
       "</style>\n",
       "<table border=\"1\" class=\"dataframe\">\n",
       "  <thead>\n",
       "    <tr style=\"text-align: right;\">\n",
       "      <th></th>\n",
       "      <th>trans_count20181</th>\n",
       "      <th>trans_count201810</th>\n",
       "      <th>trans_count201811</th>\n",
       "      <th>trans_count201812</th>\n",
       "      <th>trans_count20182</th>\n",
       "      <th>trans_count20183</th>\n",
       "      <th>trans_count20184</th>\n",
       "      <th>trans_count20185</th>\n",
       "      <th>trans_count20186</th>\n",
       "      <th>trans_count20187</th>\n",
       "      <th>...</th>\n",
       "      <th>joinedrange_less_month</th>\n",
       "      <th>joinedrange_month_quarter</th>\n",
       "      <th>joinedrange_quarter_halfyear</th>\n",
       "      <th>joinedrange_more_halfyear</th>\n",
       "      <th>attributes_notifications_marketing_push_0.0</th>\n",
       "      <th>attributes_notifications_marketing_push_1.0</th>\n",
       "      <th>attributes_notifications_marketing_email_0.0</th>\n",
       "      <th>attributes_notifications_marketing_email_1.0</th>\n",
       "      <th>user_settings_crypto_unlocked_0</th>\n",
       "      <th>user_settings_crypto_unlocked_1</th>\n",
       "    </tr>\n",
       "  </thead>\n",
       "  <tbody>\n",
       "    <tr>\n",
       "      <th>0</th>\n",
       "      <td>14.0</td>\n",
       "      <td>23.0</td>\n",
       "      <td>10.0</td>\n",
       "      <td>9.0</td>\n",
       "      <td>13.0</td>\n",
       "      <td>41.0</td>\n",
       "      <td>12.0</td>\n",
       "      <td>18.0</td>\n",
       "      <td>26.0</td>\n",
       "      <td>44.0</td>\n",
       "      <td>...</td>\n",
       "      <td>0</td>\n",
       "      <td>0</td>\n",
       "      <td>0</td>\n",
       "      <td>1</td>\n",
       "      <td>0</td>\n",
       "      <td>1</td>\n",
       "      <td>0</td>\n",
       "      <td>1</td>\n",
       "      <td>0</td>\n",
       "      <td>1</td>\n",
       "    </tr>\n",
       "    <tr>\n",
       "      <th>1</th>\n",
       "      <td>1.0</td>\n",
       "      <td>0.0</td>\n",
       "      <td>9.0</td>\n",
       "      <td>8.0</td>\n",
       "      <td>0.0</td>\n",
       "      <td>9.0</td>\n",
       "      <td>29.0</td>\n",
       "      <td>7.0</td>\n",
       "      <td>14.0</td>\n",
       "      <td>5.0</td>\n",
       "      <td>...</td>\n",
       "      <td>0</td>\n",
       "      <td>0</td>\n",
       "      <td>0</td>\n",
       "      <td>1</td>\n",
       "      <td>0</td>\n",
       "      <td>0</td>\n",
       "      <td>0</td>\n",
       "      <td>0</td>\n",
       "      <td>1</td>\n",
       "      <td>0</td>\n",
       "    </tr>\n",
       "    <tr>\n",
       "      <th>2</th>\n",
       "      <td>22.0</td>\n",
       "      <td>90.0</td>\n",
       "      <td>65.0</td>\n",
       "      <td>69.0</td>\n",
       "      <td>45.0</td>\n",
       "      <td>35.0</td>\n",
       "      <td>43.0</td>\n",
       "      <td>38.0</td>\n",
       "      <td>42.0</td>\n",
       "      <td>40.0</td>\n",
       "      <td>...</td>\n",
       "      <td>0</td>\n",
       "      <td>0</td>\n",
       "      <td>0</td>\n",
       "      <td>1</td>\n",
       "      <td>0</td>\n",
       "      <td>1</td>\n",
       "      <td>0</td>\n",
       "      <td>1</td>\n",
       "      <td>1</td>\n",
       "      <td>0</td>\n",
       "    </tr>\n",
       "    <tr>\n",
       "      <th>3</th>\n",
       "      <td>1.0</td>\n",
       "      <td>4.0</td>\n",
       "      <td>0.0</td>\n",
       "      <td>0.0</td>\n",
       "      <td>5.0</td>\n",
       "      <td>7.0</td>\n",
       "      <td>6.0</td>\n",
       "      <td>0.0</td>\n",
       "      <td>0.0</td>\n",
       "      <td>18.0</td>\n",
       "      <td>...</td>\n",
       "      <td>0</td>\n",
       "      <td>0</td>\n",
       "      <td>0</td>\n",
       "      <td>1</td>\n",
       "      <td>0</td>\n",
       "      <td>0</td>\n",
       "      <td>0</td>\n",
       "      <td>0</td>\n",
       "      <td>1</td>\n",
       "      <td>0</td>\n",
       "    </tr>\n",
       "    <tr>\n",
       "      <th>4</th>\n",
       "      <td>21.0</td>\n",
       "      <td>0.0</td>\n",
       "      <td>0.0</td>\n",
       "      <td>0.0</td>\n",
       "      <td>7.0</td>\n",
       "      <td>6.0</td>\n",
       "      <td>0.0</td>\n",
       "      <td>0.0</td>\n",
       "      <td>1.0</td>\n",
       "      <td>0.0</td>\n",
       "      <td>...</td>\n",
       "      <td>0</td>\n",
       "      <td>0</td>\n",
       "      <td>0</td>\n",
       "      <td>1</td>\n",
       "      <td>0</td>\n",
       "      <td>1</td>\n",
       "      <td>0</td>\n",
       "      <td>1</td>\n",
       "      <td>0</td>\n",
       "      <td>1</td>\n",
       "    </tr>\n",
       "  </tbody>\n",
       "</table>\n",
       "<p>5 rows × 98 columns</p>\n",
       "</div>"
      ],
      "text/plain": [
       "   trans_count20181  trans_count201810  trans_count201811  trans_count201812  \\\n",
       "0              14.0               23.0               10.0                9.0   \n",
       "1               1.0                0.0                9.0                8.0   \n",
       "2              22.0               90.0               65.0               69.0   \n",
       "3               1.0                4.0                0.0                0.0   \n",
       "4              21.0                0.0                0.0                0.0   \n",
       "\n",
       "   trans_count20182  trans_count20183  trans_count20184  trans_count20185  \\\n",
       "0              13.0              41.0              12.0              18.0   \n",
       "1               0.0               9.0              29.0               7.0   \n",
       "2              45.0              35.0              43.0              38.0   \n",
       "3               5.0               7.0               6.0               0.0   \n",
       "4               7.0               6.0               0.0               0.0   \n",
       "\n",
       "   trans_count20186  trans_count20187  ...  joinedrange_less_month  \\\n",
       "0              26.0              44.0  ...                       0   \n",
       "1              14.0               5.0  ...                       0   \n",
       "2              42.0              40.0  ...                       0   \n",
       "3               0.0              18.0  ...                       0   \n",
       "4               1.0               0.0  ...                       0   \n",
       "\n",
       "   joinedrange_month_quarter  joinedrange_quarter_halfyear  \\\n",
       "0                          0                             0   \n",
       "1                          0                             0   \n",
       "2                          0                             0   \n",
       "3                          0                             0   \n",
       "4                          0                             0   \n",
       "\n",
       "   joinedrange_more_halfyear  attributes_notifications_marketing_push_0.0  \\\n",
       "0                          1                                            0   \n",
       "1                          1                                            0   \n",
       "2                          1                                            0   \n",
       "3                          1                                            0   \n",
       "4                          1                                            0   \n",
       "\n",
       "   attributes_notifications_marketing_push_1.0  \\\n",
       "0                                            1   \n",
       "1                                            0   \n",
       "2                                            1   \n",
       "3                                            0   \n",
       "4                                            1   \n",
       "\n",
       "   attributes_notifications_marketing_email_0.0  \\\n",
       "0                                             0   \n",
       "1                                             0   \n",
       "2                                             0   \n",
       "3                                             0   \n",
       "4                                             0   \n",
       "\n",
       "   attributes_notifications_marketing_email_1.0  \\\n",
       "0                                             1   \n",
       "1                                             0   \n",
       "2                                             1   \n",
       "3                                             0   \n",
       "4                                             1   \n",
       "\n",
       "   user_settings_crypto_unlocked_0  user_settings_crypto_unlocked_1  \n",
       "0                                0                                1  \n",
       "1                                1                                0  \n",
       "2                                1                                0  \n",
       "3                                1                                0  \n",
       "4                                0                                1  \n",
       "\n",
       "[5 rows x 98 columns]"
      ]
     },
     "execution_count": 33,
     "metadata": {},
     "output_type": "execute_result"
    }
   ],
   "source": [
    "#### Create the target variable and delete unnecessary columns\n",
    "# target = model_data[\"target\"]\n",
    "model_data.drop(['user_id'],inplace=True,axis=1)\n",
    "model_data.head()"
   ]
  },
  {
   "cell_type": "code",
   "execution_count": 34,
   "metadata": {},
   "outputs": [],
   "source": [
    "### Work on balancing as nothing else worked"
   ]
  },
  {
   "cell_type": "code",
   "execution_count": 35,
   "metadata": {},
   "outputs": [],
   "source": [
    "target1 = len(model_data[model_data['target'] == 1]) * 2\n",
    "target0 = model_data[model_data.target == 0].index\n",
    "random_indices = np.random.choice(target0,target1 , replace=False)\n",
    "target1 = model_data[model_data['target']==1].index\n",
    "under_sample_indices = np.concatenate([target1,random_indices])\n",
    "under_sample = model_data.loc[under_sample_indices]"
   ]
  },
  {
   "cell_type": "code",
   "execution_count": 36,
   "metadata": {},
   "outputs": [
    {
     "data": {
      "text/plain": [
       "0    2008\n",
       "1    1004\n",
       "Name: target, dtype: int64"
      ]
     },
     "execution_count": 36,
     "metadata": {},
     "output_type": "execute_result"
    }
   ],
   "source": [
    "under_sample['target'].value_counts()"
   ]
  },
  {
   "cell_type": "code",
   "execution_count": 37,
   "metadata": {},
   "outputs": [
    {
     "data": {
      "text/html": [
       "<div>\n",
       "<style scoped>\n",
       "    .dataframe tbody tr th:only-of-type {\n",
       "        vertical-align: middle;\n",
       "    }\n",
       "\n",
       "    .dataframe tbody tr th {\n",
       "        vertical-align: top;\n",
       "    }\n",
       "\n",
       "    .dataframe thead th {\n",
       "        text-align: right;\n",
       "    }\n",
       "</style>\n",
       "<table border=\"1\" class=\"dataframe\">\n",
       "  <thead>\n",
       "    <tr style=\"text-align: right;\">\n",
       "      <th></th>\n",
       "      <th>trans_count20181</th>\n",
       "      <th>trans_count201810</th>\n",
       "      <th>trans_count201811</th>\n",
       "      <th>trans_count201812</th>\n",
       "      <th>trans_count20182</th>\n",
       "      <th>trans_count20183</th>\n",
       "      <th>trans_count20184</th>\n",
       "      <th>trans_count20185</th>\n",
       "      <th>trans_count20186</th>\n",
       "      <th>trans_count20187</th>\n",
       "      <th>...</th>\n",
       "      <th>joinedrange_less_month</th>\n",
       "      <th>joinedrange_month_quarter</th>\n",
       "      <th>joinedrange_quarter_halfyear</th>\n",
       "      <th>joinedrange_more_halfyear</th>\n",
       "      <th>attributes_notifications_marketing_push_0.0</th>\n",
       "      <th>attributes_notifications_marketing_push_1.0</th>\n",
       "      <th>attributes_notifications_marketing_email_0.0</th>\n",
       "      <th>attributes_notifications_marketing_email_1.0</th>\n",
       "      <th>user_settings_crypto_unlocked_0</th>\n",
       "      <th>user_settings_crypto_unlocked_1</th>\n",
       "    </tr>\n",
       "  </thead>\n",
       "  <tbody>\n",
       "    <tr>\n",
       "      <th>9</th>\n",
       "      <td>0.0</td>\n",
       "      <td>5.0</td>\n",
       "      <td>24.0</td>\n",
       "      <td>4.0</td>\n",
       "      <td>0.0</td>\n",
       "      <td>0.0</td>\n",
       "      <td>0.0</td>\n",
       "      <td>0.0</td>\n",
       "      <td>0.0</td>\n",
       "      <td>0.0</td>\n",
       "      <td>...</td>\n",
       "      <td>0</td>\n",
       "      <td>1</td>\n",
       "      <td>0</td>\n",
       "      <td>0</td>\n",
       "      <td>0</td>\n",
       "      <td>1</td>\n",
       "      <td>0</td>\n",
       "      <td>1</td>\n",
       "      <td>1</td>\n",
       "      <td>0</td>\n",
       "    </tr>\n",
       "    <tr>\n",
       "      <th>10</th>\n",
       "      <td>0.0</td>\n",
       "      <td>5.0</td>\n",
       "      <td>0.0</td>\n",
       "      <td>12.0</td>\n",
       "      <td>0.0</td>\n",
       "      <td>0.0</td>\n",
       "      <td>0.0</td>\n",
       "      <td>0.0</td>\n",
       "      <td>0.0</td>\n",
       "      <td>0.0</td>\n",
       "      <td>...</td>\n",
       "      <td>0</td>\n",
       "      <td>1</td>\n",
       "      <td>0</td>\n",
       "      <td>0</td>\n",
       "      <td>0</td>\n",
       "      <td>0</td>\n",
       "      <td>0</td>\n",
       "      <td>0</td>\n",
       "      <td>1</td>\n",
       "      <td>0</td>\n",
       "    </tr>\n",
       "    <tr>\n",
       "      <th>24</th>\n",
       "      <td>0.0</td>\n",
       "      <td>85.0</td>\n",
       "      <td>202.0</td>\n",
       "      <td>55.0</td>\n",
       "      <td>0.0</td>\n",
       "      <td>0.0</td>\n",
       "      <td>0.0</td>\n",
       "      <td>0.0</td>\n",
       "      <td>0.0</td>\n",
       "      <td>0.0</td>\n",
       "      <td>...</td>\n",
       "      <td>0</td>\n",
       "      <td>1</td>\n",
       "      <td>0</td>\n",
       "      <td>0</td>\n",
       "      <td>0</td>\n",
       "      <td>1</td>\n",
       "      <td>0</td>\n",
       "      <td>1</td>\n",
       "      <td>1</td>\n",
       "      <td>0</td>\n",
       "    </tr>\n",
       "    <tr>\n",
       "      <th>25</th>\n",
       "      <td>2.0</td>\n",
       "      <td>13.0</td>\n",
       "      <td>20.0</td>\n",
       "      <td>11.0</td>\n",
       "      <td>2.0</td>\n",
       "      <td>2.0</td>\n",
       "      <td>4.0</td>\n",
       "      <td>10.0</td>\n",
       "      <td>12.0</td>\n",
       "      <td>29.0</td>\n",
       "      <td>...</td>\n",
       "      <td>0</td>\n",
       "      <td>0</td>\n",
       "      <td>0</td>\n",
       "      <td>1</td>\n",
       "      <td>0</td>\n",
       "      <td>0</td>\n",
       "      <td>0</td>\n",
       "      <td>0</td>\n",
       "      <td>1</td>\n",
       "      <td>0</td>\n",
       "    </tr>\n",
       "    <tr>\n",
       "      <th>35</th>\n",
       "      <td>0.0</td>\n",
       "      <td>2.0</td>\n",
       "      <td>33.0</td>\n",
       "      <td>120.0</td>\n",
       "      <td>0.0</td>\n",
       "      <td>0.0</td>\n",
       "      <td>0.0</td>\n",
       "      <td>0.0</td>\n",
       "      <td>0.0</td>\n",
       "      <td>0.0</td>\n",
       "      <td>...</td>\n",
       "      <td>0</td>\n",
       "      <td>1</td>\n",
       "      <td>0</td>\n",
       "      <td>0</td>\n",
       "      <td>0</td>\n",
       "      <td>1</td>\n",
       "      <td>0</td>\n",
       "      <td>1</td>\n",
       "      <td>0</td>\n",
       "      <td>1</td>\n",
       "    </tr>\n",
       "  </tbody>\n",
       "</table>\n",
       "<p>5 rows × 97 columns</p>\n",
       "</div>"
      ],
      "text/plain": [
       "    trans_count20181  trans_count201810  trans_count201811  trans_count201812  \\\n",
       "9                0.0                5.0               24.0                4.0   \n",
       "10               0.0                5.0                0.0               12.0   \n",
       "24               0.0               85.0              202.0               55.0   \n",
       "25               2.0               13.0               20.0               11.0   \n",
       "35               0.0                2.0               33.0              120.0   \n",
       "\n",
       "    trans_count20182  trans_count20183  trans_count20184  trans_count20185  \\\n",
       "9                0.0               0.0               0.0               0.0   \n",
       "10               0.0               0.0               0.0               0.0   \n",
       "24               0.0               0.0               0.0               0.0   \n",
       "25               2.0               2.0               4.0              10.0   \n",
       "35               0.0               0.0               0.0               0.0   \n",
       "\n",
       "    trans_count20186  trans_count20187  ...  joinedrange_less_month  \\\n",
       "9                0.0               0.0  ...                       0   \n",
       "10               0.0               0.0  ...                       0   \n",
       "24               0.0               0.0  ...                       0   \n",
       "25              12.0              29.0  ...                       0   \n",
       "35               0.0               0.0  ...                       0   \n",
       "\n",
       "    joinedrange_month_quarter  joinedrange_quarter_halfyear  \\\n",
       "9                           1                             0   \n",
       "10                          1                             0   \n",
       "24                          1                             0   \n",
       "25                          0                             0   \n",
       "35                          1                             0   \n",
       "\n",
       "    joinedrange_more_halfyear  attributes_notifications_marketing_push_0.0  \\\n",
       "9                           0                                            0   \n",
       "10                          0                                            0   \n",
       "24                          0                                            0   \n",
       "25                          1                                            0   \n",
       "35                          0                                            0   \n",
       "\n",
       "    attributes_notifications_marketing_push_1.0  \\\n",
       "9                                             1   \n",
       "10                                            0   \n",
       "24                                            1   \n",
       "25                                            0   \n",
       "35                                            1   \n",
       "\n",
       "    attributes_notifications_marketing_email_0.0  \\\n",
       "9                                              0   \n",
       "10                                             0   \n",
       "24                                             0   \n",
       "25                                             0   \n",
       "35                                             0   \n",
       "\n",
       "    attributes_notifications_marketing_email_1.0  \\\n",
       "9                                              1   \n",
       "10                                             0   \n",
       "24                                             1   \n",
       "25                                             0   \n",
       "35                                             1   \n",
       "\n",
       "    user_settings_crypto_unlocked_0  user_settings_crypto_unlocked_1  \n",
       "9                                 1                                0  \n",
       "10                                1                                0  \n",
       "24                                1                                0  \n",
       "25                                1                                0  \n",
       "35                                0                                1  \n",
       "\n",
       "[5 rows x 97 columns]"
      ]
     },
     "execution_count": 37,
     "metadata": {},
     "output_type": "execute_result"
    }
   ],
   "source": [
    "target = under_sample['target']\n",
    "under_sample.drop(['target'],inplace=True,axis=1)\n",
    "under_sample.head()"
   ]
  },
  {
   "cell_type": "code",
   "execution_count": 38,
   "metadata": {},
   "outputs": [
    {
     "name": "stdout",
     "output_type": "stream",
     "text": [
      "Training set has  samples 2409\n",
      "Testing set has  samples   603\n"
     ]
    }
   ],
   "source": [
    "from sklearn.model_selection import train_test_split\n",
    "# Split the 'features' and 'income' data into training and testing sets\n",
    "X_train, X_test, y_train, y_test = train_test_split(under_sample, \n",
    "                                                    target, \n",
    "                                                    test_size = 0.2, \n",
    "                                                    random_state = 0,stratify = target)\n",
    "\n",
    "# Show the results of the split\n",
    "print (\"Training set has  samples\", X_train.shape[0])\n",
    "print (\"Testing set has  samples  \",X_test.shape[0])"
   ]
  },
  {
   "cell_type": "code",
   "execution_count": 39,
   "metadata": {},
   "outputs": [],
   "source": [
    "### Create a simple & dumb base line model "
   ]
  },
  {
   "cell_type": "code",
   "execution_count": 40,
   "metadata": {},
   "outputs": [
    {
     "name": "stdout",
     "output_type": "stream",
     "text": [
      "1004 2008\n",
      "Naive Predictor: [Accuracy score: 0.3333, F-score: 0.3846]\n"
     ]
    }
   ],
   "source": [
    "### Base Line Model : If our model predicted everything as Risky\n",
    "TP = np.sum(target) # Counting the ones as this is the naive case. \n",
    "\n",
    "FP = target.count() - TP # Specific to the naive case\n",
    "\n",
    "TN = 0 # No predicted negatives in the naive case\n",
    "FN = 0 # No predicted negatives in the naive case\n",
    "print (TP,FP)\n",
    "# TODO: Calculate accuracy, precision and recall\n",
    "\n",
    "accuracy = float(TP)/float(target.count())\n",
    "recall = 1\n",
    "precision = accuracy\n",
    "beta= 0.5\n",
    "\n",
    "\n",
    "# The formula for fbeta score can be written as (1 + beta**2) * (precision * recall) / ((beta**2 * precision) + recall)\n",
    "fscore = (1 + 0.25) * (precision * recall) / ((0.25 * precision) + recall)\n",
    "\n",
    "# Print the results \n",
    "print (\"Naive Predictor: [Accuracy score: {:.4f}, F-score: {:.4f}]\".format(accuracy, fscore))"
   ]
  },
  {
   "cell_type": "code",
   "execution_count": 41,
   "metadata": {},
   "outputs": [],
   "source": [
    "### Building a train predictor to compare multiple models¶\n",
    "### Here metrics that I am going to use to compare different models is F1 score, accuracy\n",
    "### More prefrence give  to F score as it is imbalanced class problem\n",
    "from sklearn.metrics import fbeta_score\n",
    "from sklearn.metrics import accuracy_score\n",
    "from sklearn.metrics import make_scorer, precision_recall_curve,confusion_matrix\n",
    "from sklearn import  metrics\n",
    "\n",
    "import time\n",
    "def train_predict(learner, sample_size, X_train, y_train, X_test, y_test): \n",
    "\n",
    "    results = {}\n",
    "    \n",
    "  \n",
    "    start = time.time()\n",
    "    learner = learner.fit(X_train[:sample_size], y_train[:sample_size])\n",
    "    end = time.time()\n",
    "    \n",
    "    results['train_time'] = end - start\n",
    "    \n",
    "    start = time.time()\n",
    "    predictions_test = learner.predict(X_test)\n",
    "    predictions_train = learner.predict(X_train)\n",
    "    end = time.time()\n",
    "    \n",
    "    results['pred_time'] = end - start\n",
    "    results['acc_train'] = accuracy_score(y_train, predictions_train)\n",
    "        \n",
    "    results['acc_test'] = accuracy_score(y_test, predictions_test)\n",
    "    \n",
    "    results['f_train'] = fbeta_score(y_train, predictions_train, 0.5,average='weighted')\n",
    "        \n",
    "    results['f_test'] = fbeta_score(y_test, predictions_test, 0.5,average='weighted')\n",
    "    matrix =  confusion_matrix(y_test, predictions_test)\n",
    "    TP =  matrix[0][0]\n",
    "    FP = matrix[0][1]  # Specific to the naive case\n",
    "\n",
    "    TN = matrix[1][1] # No predicted negatives in the naive case\n",
    "    FN = matrix[1][0] # No predicted negatives in the naive case\n",
    "\n",
    "    # TODO: Calculate accuracy, precision and recall\n",
    "    accuracy = metrics.accuracy_score(y_test, predictions_test)\n",
    "    recall = float(TP )/  float(TP + FN)\n",
    "    precision = float(TP )/ float(TP + FP)\n",
    "    #print \"precision: {}, recall: {}\".format(recall, precision) \n",
    "    beta = 0.5\n",
    "    \n",
    "    # TODO: Calculate F-score using the formula above for beta = 0.5 and correct values for precision and recall.\n",
    "    # HINT: The formula above can be written as (1 + beta**2) * (precision * recall) / ((beta**2 * precision) + recall)\n",
    "    fscore = (1 + 0.25) * (precision * recall) / ((0.25 * precision) + recall)\n",
    "    print (\"Test fscore with beta 0.5 : \", fscore )  \n",
    "    print (\"{} trained on {} samples.\".format(learner.__class__.__name__, sample_size))\n",
    "    dataframe = pd.DataFrame(predictions_train,y_train)  \n",
    "    dataframe.to_csv(learner.__class__.__name__+\".txt\")\n",
    "    # Return the results\n",
    "    return results"
   ]
  },
  {
   "cell_type": "markdown",
   "metadata": {},
   "source": [
    "### Try out various classification model and use one of the best model for tuning"
   ]
  },
  {
   "cell_type": "code",
   "execution_count": 42,
   "metadata": {},
   "outputs": [
    {
     "name": "stdout",
     "output_type": "stream",
     "text": [
      "Test fscore with beta 0.5 :  0.8430097538318626\n",
      "LogisticRegressionCV trained on 24 samples.\n",
      "Test fscore with beta 0.5 :  0.7440039158100832\n",
      "LogisticRegressionCV trained on 240 samples.\n",
      "Test fscore with beta 0.5 :  0.8735632183908046\n",
      "LogisticRegressionCV trained on 2409 samples.\n",
      "Test fscore with beta 0.5 :  0.9037238873751136\n",
      "KNeighborsClassifier trained on 24 samples.\n",
      "Test fscore with beta 0.5 :  0.7414634146341463\n",
      "KNeighborsClassifier trained on 240 samples.\n",
      "Test fscore with beta 0.5 :  0.7898516036381044\n",
      "KNeighborsClassifier trained on 2409 samples.\n",
      "Test fscore with beta 0.5 :  0.8372310570626753\n",
      "RandomForestClassifier trained on 24 samples.\n",
      "Test fscore with beta 0.5 :  0.7041540020263424\n",
      "RandomForestClassifier trained on 240 samples.\n",
      "Test fscore with beta 0.5 :  0.8353394318728937\n",
      "RandomForestClassifier trained on 2409 samples.\n"
     ]
    }
   ],
   "source": [
    "from sklearn.ensemble import RandomForestClassifier\n",
    "from sklearn import linear_model\n",
    "from sklearn.neighbors import KNeighborsClassifier\n",
    "from sklearn.ensemble import AdaBoostClassifier\n",
    "from sklearn.tree import DecisionTreeClassifier\n",
    "from sklearn import svm\n",
    "import warnings\n",
    "warnings.filterwarnings(\"ignore\")\n",
    "\n",
    "# TODO: Initialize the three models\n",
    "clf_A =  linear_model.LogisticRegressionCV(solver='lbfgs',random_state=40)\n",
    "clf_B = KNeighborsClassifier()\n",
    "clf_C = RandomForestClassifier(random_state=40)\n",
    "#clf_D = RandomForestClassifier(random_state = 40)\n",
    "\n",
    "samples_100 = len(y_train)\n",
    "samples_10 = int(samples_100 * 0.1)\n",
    "samples_1 = int(samples_100 * 0.01)\n",
    "\n",
    "# Collect results on the learners\n",
    "results = {}\n",
    "for clf in [clf_A, clf_B, clf_C]:\n",
    "    clf_name = clf.__class__.__name__\n",
    "    results[clf_name] = {}\n",
    "    for i, samples in enumerate([samples_1,samples_10,samples_100]):\n",
    "        results[clf_name][i]=train_predict(clf, samples, X_train, y_train, X_test, y_test)\n",
    "\n"
   ]
  },
  {
   "cell_type": "markdown",
   "metadata": {},
   "source": [
    "#### Random forest and K nearest are the best models. But we will use Random forest as it is faster and scalable on bigger data also\n",
    "#### We will try to use Gridsearch cv to do some hyperparamter tuning on random forest "
   ]
  },
  {
   "cell_type": "code",
   "execution_count": 44,
   "metadata": {},
   "outputs": [
    {
     "name": "stdout",
     "output_type": "stream",
     "text": [
      "{'n_estimators': [200, 400, 600, 800, 1000], 'max_features': ['auto', 'sqrt'], 'max_depth': [2, None], 'min_samples_split': [2, 5, 10, 20, 50], 'min_samples_leaf': [1, 2, 4, 8, 12, 20, 40], 'bootstrap': [True, False]}\n",
      "\n",
      "Optimized Model\n",
      "------\n",
      "              precision    recall  f1-score   support\n",
      "\n",
      "           0       0.72      0.92      0.81       402\n",
      "           1       0.65      0.28      0.39       201\n",
      "\n",
      "    accuracy                           0.71       603\n",
      "   macro avg       0.68      0.60      0.60       603\n",
      "weighted avg       0.70      0.71      0.67       603\n",
      "\n"
     ]
    }
   ],
   "source": [
    "# Import 'GridSearchCV', 'make_scorer', and any other necessary libraries\n",
    "from sklearn.model_selection import GridSearchCV\n",
    "from sklearn.metrics import make_scorer\n",
    "from sklearn.metrics import classification_report\n",
    "\n",
    "from sklearn.model_selection import RandomizedSearchCV\n",
    "# Number of trees in random forest\n",
    "n_estimators = [200,400,600,800,1000]\n",
    "# Number of features to consider at every split\n",
    "max_features = ['auto', 'sqrt']\n",
    "# Maximum number of levels in tree\n",
    "max_depth = [int(x) for x in np.linspace(2, 10, num = 1)]\n",
    "max_depth.append(None)\n",
    "# Minimum number of samples required to split a node\n",
    "min_samples_split = [2, 5, 10,20,50]\n",
    "# Minimum number of samples required at each leaf node\n",
    "min_samples_leaf = [1, 2, 4,8,12,20,40]\n",
    "# Method of selecting samples for training each tree\n",
    "bootstrap = [True, False]\n",
    "# Create the random grid\n",
    "random_grid = {'n_estimators': n_estimators,\n",
    "               'max_features': max_features,\n",
    "               'max_depth': max_depth,\n",
    "               'min_samples_split': min_samples_split,\n",
    "               'min_samples_leaf': min_samples_leaf,\n",
    "               'bootstrap': bootstrap}\n",
    "print(random_grid)\n",
    "\n",
    "# Use the random grid to search for best hyperparameters\n",
    "# First create the base model to tune\n",
    "rf =  RandomForestClassifier()\n",
    "# Random search of parameters, using 3 fold cross validation, \n",
    "# search across 100 different combinations, and use all available cores\n",
    "rf_random = RandomizedSearchCV(estimator = rf, param_distributions = random_grid, n_iter = 50, cv = 3, verbose=2, random_state=42, n_jobs = -1)\n",
    "# Fit the random search model\n",
    "rf_random.fit(X_train, y_train)\n",
    "print (rf_random.best_params_)\n",
    "# Make predictions using the unoptimized and model\n",
    "best_random = rf_random.best_estimator_\n",
    "\n",
    "# predictions = (clf.fit(X_train, y_train)).predict(X_test)\n",
    "best_predictions = best_random.predict(X_test)\n",
    "\n",
    "# Report the before-and-afterscores\n",
    "\n",
    "print (\"\\nOptimized Model\\n------\")\n",
    "# print (\"Final accuracy score on the testing data: {:.4f}\".format(accuracy_score(y_test, best_predictions )))\n",
    "# print (\"Final F-score on the testing data: {:.4f}\".format(fbeta_score(y_test, best_predictions , beta = 0.5,average='weighted')))\n",
    "print(classification_report(y_test, best_predictions))"
   ]
  },
  {
   "cell_type": "markdown",
   "metadata": {},
   "source": [
    "### We are doing better than first draft of model let fine tune"
   ]
  },
  {
   "cell_type": "markdown",
   "metadata": {},
   "source": [
    "Using balanced RandomForestClassifier approach:\n",
    "Weights are inversely proportional with the frequency of class observaton:\n",
    "                                            \n",
    "                                            wj=nj / knj\n",
    " \n",
    "where  wj  is the weight to class  j ,  n  is the number of observations,  nj  is the number of observations in class  j \n",
    ", and  k  is the total number of classes. In our case, that indicates that the minority class label (fraud) should be \n",
    "weighted higher."
   ]
  },
  {
   "cell_type": "code",
   "execution_count": 47,
   "metadata": {},
   "outputs": [
    {
     "name": "stdout",
     "output_type": "stream",
     "text": [
      "{'n_estimators': [200, 400, 600, 800, 1000], 'max_features': ['auto', 'sqrt'], 'max_depth': [4, 5, 6, 7, 8, 9, 10], 'min_samples_split': [2, 5, 10, 20, 50], 'min_samples_leaf': [4, 8, 12, 20, 40], 'bootstrap': [True, False], 'class_weight': ['balanced', 'balanced_subsample']}\n",
      "\n",
      "Optimized Model\n",
      "------\n",
      "              precision    recall  f1-score   support\n",
      "\n",
      "           0       0.84      0.57      0.68       402\n",
      "           1       0.48      0.79      0.60       201\n",
      "\n",
      "    accuracy                           0.64       603\n",
      "   macro avg       0.66      0.68      0.64       603\n",
      "weighted avg       0.72      0.64      0.65       603\n",
      "\n"
     ]
    }
   ],
   "source": [
    "\n",
    "from sklearn.model_selection import RandomizedSearchCV\n",
    "# Number of trees in random forest\n",
    "n_estimators = [200,400,600,800,1000]\n",
    "# Number of features to consider at every split\n",
    "max_features = ['auto', 'sqrt']\n",
    "# Maximum number of levels in tree\n",
    "max_depth = [4,5,6,7,8,9,10]\n",
    "\n",
    "# Minimum number of samples required to split a node\n",
    "min_samples_split = [2, 5, 10,20,50]\n",
    "# Minimum number of samples required at each leaf node\n",
    "min_samples_leaf = [4,8,12,20,40]\n",
    "# Method of selecting samples for training each tree\n",
    "bootstrap = [True, False]\n",
    "class_weight = ['balanced','balanced_subsample']\n",
    "# Create the random grid\n",
    "random_grid = {'n_estimators': n_estimators,\n",
    "               'max_features': max_features,\n",
    "               'max_depth': max_depth,\n",
    "               'min_samples_split': min_samples_split,\n",
    "               'min_samples_leaf': min_samples_leaf,\n",
    "               'bootstrap': bootstrap,\n",
    "               'class_weight':class_weight\n",
    "              }\n",
    "print(random_grid)\n",
    "\n",
    "# Use the random grid to search for best hyperparameters\n",
    "# First create the base model to tune\n",
    "rf =  RandomForestClassifier()\n",
    "# Random search of parameters, using 3 fold cross validation, \n",
    "# search across 100 different combinations, and use all available cores\n",
    "rf_random = RandomizedSearchCV(estimator = rf, param_distributions = random_grid, n_iter = 500, cv = 2, verbose=2, random_state=42, n_jobs = -1)\n",
    "# Fit the random search model\n",
    "rf_random.fit(X_train, y_train)\n",
    "print (rf_random.best_params_)\n",
    "# Make predictions using the unoptimized and model\n",
    "best_random = rf_random.best_estimator_\n",
    "\n",
    "# predictions = (clf.fit(X_train, y_train)).predict(X_test)\n",
    "best_predictions = best_random.predict(X_test)\n",
    "\n",
    "# Report the before-and-afterscores\n",
    "\n",
    "print (\"\\nOptimized Model\\n------\")\n",
    "# print (\"Final accuracy score on the testing data: {:.4f}\".format(accuracy_score(y_test, best_predictions )))\n",
    "# print (\"Final F-score on the testing data: {:.4f}\".format(fbeta_score(y_test, best_predictions , beta = 0.5,average='weighted')))\n",
    "print(classification_report(y_test, best_predictions))"
   ]
  },
  {
   "cell_type": "code",
   "execution_count": null,
   "metadata": {},
   "outputs": [],
   "source": []
  },
  {
   "cell_type": "code",
   "execution_count": 48,
   "metadata": {},
   "outputs": [
    {
     "name": "stdout",
     "output_type": "stream",
     "text": [
      "Feature ranking:\n",
      "1. feature amt_sum201812 (0.121308)\n",
      "2. feature trans_count201812 (0.101498)\n",
      "3. feature dist_trans201812 (0.098876)\n",
      "4. feature dist_currency201812 (0.096600)\n",
      "5. feature num_contacts (0.039067)\n",
      "6. feature dist_city201812 (0.029899)\n",
      "7. feature dist_country201812 (0.029831)\n",
      "8. feature amt_sum201811 (0.025613)\n",
      "9. feature amt_sum201810 (0.021535)\n",
      "10. feature trans_count201811 (0.021101)\n",
      "11. feature amt_sum20189 (0.017929)\n",
      "12. feature amt_sum20188 (0.017550)\n",
      "13. feature trans_count201810 (0.017325)\n",
      "14. feature trans_count20189 (0.015397)\n",
      "15. feature dist_city201811 (0.014307)\n",
      "16. feature amt_sum20187 (0.014156)\n",
      "17. feature dist_trans201811 (0.013952)\n",
      "18. feature trans_count20188 (0.013471)\n",
      "19. feature trans_count20187 (0.012217)\n",
      "20. feature dist_city201810 (0.011257)\n",
      "21. feature amt_sum20186 (0.010478)\n",
      "22. feature trans_count20186 (0.009623)\n",
      "23. feature dist_currency201811 (0.009277)\n",
      "24. feature dist_city20188 (0.009258)\n",
      "25. feature dist_trans201810 (0.008923)\n",
      "26. feature dist_city20189 (0.008512)\n",
      "27. feature amt_sum20185 (0.008045)\n",
      "28. feature dist_trans20189 (0.007091)\n",
      "29. feature dist_city20187 (0.006804)\n",
      "30. feature dist_country201811 (0.006750)\n",
      "31. feature dist_country201810 (0.006627)\n",
      "32. feature trans_count20185 (0.006604)\n",
      "33. feature dist_trans20188 (0.006598)\n",
      "34. feature dist_country20189 (0.005810)\n",
      "35. feature dist_city20186 (0.005620)\n",
      "36. feature amt_sum20184 (0.005606)\n",
      "37. feature dist_trans20187 (0.005594)\n",
      "38. feature dist_currency201810 (0.005407)\n",
      "39. feature dist_currency20189 (0.005157)\n",
      "40. feature amt_sum20183 (0.004877)\n",
      "41. feature dist_country20188 (0.004767)\n",
      "42. feature trans_count20184 (0.004338)\n",
      "43. feature dist_country20187 (0.004226)\n",
      "44. feature dist_trans20186 (0.004044)\n",
      "45. feature dist_currency20188 (0.004020)\n",
      "46. feature dist_city20185 (0.003857)\n",
      "47. feature attributes_notifications_marketing_email_1.0 (0.003786)\n",
      "48. feature brand_Android (0.003738)\n",
      "49. feature trans_count20183 (0.003705)\n",
      "50. feature dist_currency20187 (0.003698)\n",
      "51. feature dist_trans20185 (0.003689)\n",
      "52. feature brand_Apple (0.003677)\n",
      "53. feature dist_currency20186 (0.003591)\n",
      "54. feature agerange_25-35 (0.003502)\n",
      "55. feature joinedrange_month_quarter (0.003466)\n",
      "56. feature plan_STANDARD (0.003460)\n",
      "57. feature agerange_35-50 (0.003375)\n",
      "58. feature attributes_notifications_marketing_push_1.0 (0.003329)\n",
      "59. feature dist_currency20185 (0.003181)\n",
      "60. feature user_settings_crypto_unlocked_0 (0.002918)\n",
      "61. feature dist_country20186 (0.002833)\n",
      "62. feature dist_city20184 (0.002678)\n",
      "63. feature joinedrange_quarter_halfyear (0.002578)\n",
      "64. feature plan_PREMIUM (0.002573)\n",
      "65. feature user_settings_crypto_unlocked_1 (0.002569)\n",
      "66. feature dist_country20185 (0.002546)\n",
      "67. feature dist_trans20184 (0.002507)\n",
      "68. feature dist_trans20183 (0.002324)\n",
      "69. feature joinedrange_more_halfyear (0.002178)\n",
      "70. feature agerange_50-59 (0.002021)\n",
      "71. feature amt_sum20182 (0.001969)\n",
      "72. feature attributes_notifications_marketing_push_0.0 (0.001929)\n",
      "73. feature dist_currency20184 (0.001817)\n",
      "74. feature dist_country20184 (0.001725)\n",
      "75. feature agerange_less_25 (0.001722)\n",
      "76. feature dist_city20183 (0.001619)\n",
      "77. feature dist_currency20183 (0.001600)\n",
      "78. feature trans_count20182 (0.001504)\n",
      "79. feature dist_country20183 (0.001391)\n",
      "80. feature attributes_notifications_marketing_email_0.0 (0.001368)\n",
      "81. feature joinedrange_less_month (0.001349)\n",
      "82. feature dist_city20182 (0.001063)\n",
      "83. feature amt_sum20181 (0.001003)\n",
      "84. feature trans_count20181 (0.000910)\n",
      "85. feature dist_trans20181 (0.000801)\n",
      "86. feature dist_trans20182 (0.000771)\n",
      "87. feature dist_currency20181 (0.000732)\n",
      "88. feature dist_currency20182 (0.000615)\n",
      "89. feature plan_METAL (0.000546)\n",
      "90. feature dist_country20182 (0.000472)\n",
      "91. feature dist_city20181 (0.000189)\n",
      "92. feature dist_country20181 (0.000171)\n",
      "93. feature agerange_60+ (0.000009)\n",
      "94. feature plan_METAL_FREE (0.000000)\n",
      "95. feature plan_PREMIUM_FREE (0.000000)\n",
      "96. feature plan_PREMIUM_OFFER (0.000000)\n",
      "97. feature brand_Unknown (0.000000)\n"
     ]
    },
    {
     "data": {
      "image/png": "[encoded data removed]",
      "text/plain": [
       "<Figure size 864x576 with 1 Axes>"
      ]
     },
     "metadata": {
      "needs_background": "light"
     },
     "output_type": "display_data"
    }
   ],
   "source": [
    "importances = best_random.feature_importances_\n",
    "std = np.std([tree.feature_importances_ for tree in clf.estimators_],\n",
    "             axis=0)\n",
    "indices = np.argsort(importances)[::-1]\n",
    "probabilities = clf.predict_proba(X_test)[:, 1]\n",
    "print(\"Feature ranking:\")\n",
    "\n",
    "for f in range(X_train.shape[1]):\n",
    "    print(\"%d. feature %s (%f)\" % (f + 1, X_train.columns[indices[f]], importances[indices[f]]))\n",
    "\n",
    "# Plot the feature importances of the forest\n",
    "plt.figure(figsize=(12,8))\n",
    "plt.title(\"Feature importances\")\n",
    "plt.bar(range(X_train.shape[1]), importances[indices],\n",
    "       color=\"r\", yerr=std[indices], align=\"center\")\n",
    "plt.xticks(range(X_train.shape[1]), indices)\n",
    "plt.xlim([-1, X_train.shape[1]])\n",
    "plt.xticks(rotation='vertical')\n",
    "plt.show()"
   ]
  },
  {
   "cell_type": "markdown",
   "metadata": {},
   "source": [
    "### Next Steps on improving the model\n",
    "\n",
    "1. Try More Sampling Technique like SMOTE, UPSAMPLING, TOMEK LINKS\n",
    "2. Add new features from Notifications, mainly days to last notifications received, number of notifications received\n",
    "3. Try More advanced Boosting techniques like XGBoost with class weights \n",
    "4. Try to create more feature based on quarters and weekly summarization\n",
    "5. Play around with ROC curve to find best Recall as loosing a customer is higher cost than sending wrong notifications"
   ]
  },
  {
   "cell_type": "markdown",
   "metadata": {},
   "source": [
    "### Deployment Tips:\n",
    "1. Save the best model as pickle file\n",
    "2. Change the variable names from month indicator to t0 to t11 , where t0 is oldest month and t11 is latest month. \n",
    "3. If you want to predict for next month change all condition by moving a month forward that is t0 will ove from 20181 to 20182 \n",
    "4. Automate the complete data creation process and just predict\n"
   ]
  },
  {
   "cell_type": "markdown",
   "metadata": {},
   "source": [
    "### Steps to be taken for identified customers\n",
    "1. Send them offer for cash back or anyother offer whch increases their engagemnt\n",
    "2. Send them offer of merchant they have done most transactions in the past\n",
    "3. Calls to understand if they are facing any issues and revolut can help them solve it\n",
    "4. Offering them free upgrades"
   ]
  },
  {
   "cell_type": "code",
   "execution_count": null,
   "metadata": {},
   "outputs": [],
   "source": []
  }
 ],
 "metadata": {
  "kernelspec": {
   "display_name": "Python 3",
   "language": "python",
   "name": "python3"
  },
  "language_info": {
   "codemirror_mode": {
    "name": "ipython",
    "version": 3
   },
   "file_extension": ".py",
   "mimetype": "text/x-python",
   "name": "python",
   "nbconvert_exporter": "python",
   "pygments_lexer": "ipython3",
   "version": "3.8.8"
  }
 },
 "nbformat": 4,
 "nbformat_minor": 2
}
